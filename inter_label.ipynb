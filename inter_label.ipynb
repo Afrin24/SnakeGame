{
 "cells": [
  {
   "cell_type": "code",
   "execution_count": 1,
   "metadata": {},
   "outputs": [],
   "source": [
    "import numpy as np\n",
    "import pandas as pd\n",
    "import seaborn as sns\n",
    "import matplotlib.pyplot as plt\n",
    "import datetime\n",
    "df=pd.read_csv('C:/Users/Dell/Desktop/Interview.csv')"
   ]
  },
  {
   "cell_type": "code",
   "execution_count": 2,
   "metadata": {},
   "outputs": [
    {
     "name": "stdout",
     "output_type": "stream",
     "text": [
      "<class 'pandas.core.frame.DataFrame'>\n",
      "RangeIndex: 1234 entries, 0 to 1233\n",
      "Data columns (total 28 columns):\n",
      "Date of Interview                                                                                     1233 non-null object\n",
      "Client name                                                                                           1234 non-null object\n",
      "Industry                                                                                              1233 non-null object\n",
      "Location                                                                                              1233 non-null object\n",
      "Position to be closed                                                                                 1233 non-null object\n",
      "Nature of Skillset                                                                                    1233 non-null object\n",
      "Interview Type                                                                                        1233 non-null object\n",
      "Name(Cand ID)                                                                                         1233 non-null object\n",
      "Gender                                                                                                1233 non-null object\n",
      "Candidate Current Location                                                                            1233 non-null object\n",
      "Candidate Job Location                                                                                1233 non-null object\n",
      "Interview Venue                                                                                       1233 non-null object\n",
      "Candidate Native location                                                                             1233 non-null object\n",
      "Have you obtained the necessary permission to start at the required time                              1029 non-null object\n",
      "Hope there will be no unscheduled meetings                                                            986 non-null object\n",
      "Can I Call you three hours before the interview and follow up on your attendance for the interview    986 non-null object\n",
      "Can I have an alternative number/ desk number. I assure you that I will not trouble you too much      986 non-null object\n",
      "Have you taken a printout of your updated resume. Have you read the JD and understood the same        985 non-null object\n",
      "Are you clear with the venue details and the landmark.                                                985 non-null object\n",
      "Has the call letter been shared                                                                       988 non-null object\n",
      "Expected Attendance                                                                                   1228 non-null object\n",
      "Observed Attendance                                                                                   1233 non-null object\n",
      "Marital Status                                                                                        1233 non-null object\n",
      "Unnamed: 23                                                                                           0 non-null float64\n",
      "Unnamed: 24                                                                                           0 non-null float64\n",
      "Unnamed: 25                                                                                           0 non-null float64\n",
      "Unnamed: 26                                                                                           0 non-null float64\n",
      "Unnamed: 27                                                                                           0 non-null float64\n",
      "dtypes: float64(5), object(23)\n",
      "memory usage: 270.0+ KB\n"
     ]
    }
   ],
   "source": [
    "df.info()"
   ]
  },
  {
   "cell_type": "code",
   "execution_count": 3,
   "metadata": {},
   "outputs": [],
   "source": [
    "df.drop([\"Unnamed: 23\",'Unnamed: 24','Unnamed: 25','Unnamed: 26','Unnamed: 27'],axis=1,inplace=True)\n",
    "df.columns=['date','client','industry','location','closedpos','skills','type','id','gender','currloc','jobloc','venue','natloc','permit','meeting','call','no.','resume','clear','letter','expat','obsat','marit']"
   ]
  },
  {
   "cell_type": "code",
   "execution_count": 4,
   "metadata": {},
   "outputs": [],
   "source": [
    "df.drop(df.index[df[\"date\"].isnull()],axis=0,inplace=True)"
   ]
  },
  {
   "cell_type": "code",
   "execution_count": 5,
   "metadata": {},
   "outputs": [],
   "source": [
    "df.date=df.date.str.replace(\" \",\"\")\n",
    "df.date=df.date.str.replace(r'&\\d[\\d].\\d\\d\\w\\w','')\n",
    "df.date=df.date.str.replace(r'&\\d.\\d\\d\\w\\w','')\n",
    "df.date=df.date.str.replace('/','.')\n",
    "df.date=df.date.str.replace('-Apr-','.04.')\n",
    "df.date=df.date.str.replace('–Apr-','.04.')\n",
    "df.date=df.date.str.replace('Apr','.04.')\n",
    "df.date=df.date.str.replace(r'\\W16','.2016')\n",
    "df.date=df.date.str.replace(r'\\W15','.2015')\n",
    "df.date=df.date.str.replace('-','.')\n",
    "from datetime import datetime\n",
    "df['date']=pd.to_datetime(df['date'],format='%d.%m.%Y')\n"
   ]
  },
  {
   "cell_type": "code",
   "execution_count": 6,
   "metadata": {},
   "outputs": [],
   "source": [
    "df['client'].replace({'Hospira':'H','Aon Hewitt':'A','UST':'U','Standard Chartered Bank':'S','ANZ':'A1','Pfizer':'P','Standard Chartered Bank Chennai':'S','Aon hewitt Gurgaon':'A','Astrazeneca':'As','Flextronics':'F','Prodapt':'P1','Williams Lea':'W','Barclays':'B','Hewitt':'A','Woori Bank':'Wb'},inplace=True)\n",
    "df['industry'].replace({'Pharmaceuticals':'P','IT Services':'I','IT Products and Services':'I','Electronics':'E','Telecom':'E','IT':'I','BFSI':'B'},inplace=True)\n",
    "df.drop(df.index[df.meeting.isnull()],axis=0,inplace=True)\n",
    "df.meeting.replace({'Yes':'Y','Na':'N','No':'N','yes':'Y','Not sure':'N','Not Sure':'N','cant Say':'N'},inplace=True)\n",
    "df[df[\"permit\"].isnull()]\n",
    "df.drop(df.index[df.permit.isnull()],axis=0,inplace=True)\n",
    "df.permit.replace({'Yes':'Y','No':'N','Not yet':'N','Yet to confirm':'N','yes':'Y','Na':'N'},inplace=True)\n",
    "df.drop(df.index[df.resume.isnull()],axis=0,inplace=True)\n",
    "df.obsat.replace({'No':'N','Yes':'Y','yes':'Y','no':'N','yes ':'Y','No ':'N','NO':'N','no ':'N'},inplace=True)\n",
    "df['expat'].replace({'Yes':'Y','Uncertain':'N','No':'N','yes':'Y','11:00 AM':'Y','10.30 Am':'Y'},inplace=True)\n",
    "df['letter'].replace({'Yes':'Y', 'Havent Checked':'N', 'No':'N', 'Need To Check':'N', 'Not sure':'N','Not Sure':'N', 'Not yet':'N', 'no':'N', 'yes':'Y', 'Na':'N'},inplace=True)\n",
    "df['clear'].replace({'Yes':'Y', 'No':'N', 'No- I need to check':'N', 'yes':'Y', 'Na':'N', 'no':'N'},inplace=True)\n",
    "df['resume'].replace({'Yes':'Y', 'No':'N', 'No- will take it soon':'N', 'Not yet':'N', 'yes':'Y', 'Na':'N',\n",
    "       'Not Yet':'N'},inplace=True)\n",
    "df['no.'].replace({'Yes':'Y', 'No':'N', 'No I have only thi number':'N', 'yes':'Y', 'Na':'N'},inplace=True)\n",
    "df['call'].replace({'Yes':'Y', 'No':'N', 'No Dont':'N', 'yes':'Y', 'Na':'N'},inplace=True)\n",
    "df.currloc.replace({'Chennai':'C','Gurgaon':'G','Bangalore':'B','Hyderabad':'H','Delhi':'D','chennai':'C','- Cochin- ':'K','Noida':'N','CHENNAI':'C','chennai ':'C'},inplace=True)\n",
    "df.venue.replace({'Hosur':'H', 'Gurgaon':'G', 'Bangalore':'B', 'Chennai':'C', 'Hyderabad':'H',\n",
    "       '- Cochin- ':'K', 'Noida':'N'},inplace=True)\n",
    "df.jobloc.replace({'Hosur':'H', 'Bangalore':'B', 'Chennai':\"C\", 'Gurgaon':'G', 'Visakapatinam':'V',\n",
    "       '- Cochin- ':'K', 'Noida':'N'},inplace=True)\n",
    "df.drop('id',axis=1,inplace=True)\n",
    "df['type'].replace({'Scheduled Walkin':'SW', 'Scheduled ':'S', 'Walkin':'W', 'Scheduled Walk In':'SW',\n",
    "       'Walkin ':'W'},inplace=True)\n",
    "df.location.replace({'Chennai':'C', 'Gurgaon':'G', 'Bangalore':'B', 'Hyderabad':'H', 'Gurgaonr':'G',\n",
    "       'Delhi':'D', 'chennai':'C', '- Cochin- ':'K', 'Noida':'N', 'CHENNAI':'C', 'chennai ':'C'},inplace=True)"
   ]
  },
  {
   "cell_type": "code",
   "execution_count": 7,
   "metadata": {},
   "outputs": [
    {
     "name": "stdout",
     "output_type": "stream",
     "text": [
      "<class 'pandas.core.frame.DataFrame'>\n",
      "Int64Index: 984 entries, 0 to 1231\n",
      "Data columns (total 22 columns):\n",
      "date         984 non-null datetime64[ns]\n",
      "client       984 non-null object\n",
      "industry     984 non-null object\n",
      "location     984 non-null object\n",
      "closedpos    984 non-null object\n",
      "skills       984 non-null object\n",
      "type         984 non-null object\n",
      "gender       984 non-null object\n",
      "currloc      984 non-null object\n",
      "jobloc       984 non-null object\n",
      "venue        984 non-null object\n",
      "natloc       984 non-null object\n",
      "permit       984 non-null object\n",
      "meeting      984 non-null object\n",
      "call         984 non-null object\n",
      "no.          984 non-null object\n",
      "resume       984 non-null object\n",
      "clear        984 non-null object\n",
      "letter       984 non-null object\n",
      "expat        984 non-null object\n",
      "obsat        984 non-null object\n",
      "marit        984 non-null object\n",
      "dtypes: datetime64[ns](1), object(21)\n",
      "memory usage: 176.8+ KB\n"
     ]
    }
   ],
   "source": [
    "df.info()"
   ]
  },
  {
   "cell_type": "code",
   "execution_count": 8,
   "metadata": {},
   "outputs": [],
   "source": [
    "df1=df.drop([\"date\",\"skills\",\"natloc\"],axis=1)"
   ]
  },
  {
   "cell_type": "markdown",
   "metadata": {},
   "source": [
    "## LABEL ENCODING ALL COLUMNS"
   ]
  },
  {
   "cell_type": "code",
   "execution_count": 9,
   "metadata": {},
   "outputs": [],
   "source": [
    "from sklearn import preprocessing\n",
    "le=preprocessing.LabelEncoder()\n",
    "def encode(df1,col):\n",
    "    df1.loc[:,col]=le.fit_transform(df1.loc[:,col])\n",
    "for i in df1.columns:\n",
    "    encode(df1,i)"
   ]
  },
  {
   "cell_type": "code",
   "execution_count": 10,
   "metadata": {},
   "outputs": [
    {
     "name": "stdout",
     "output_type": "stream",
     "text": [
      "<class 'pandas.core.frame.DataFrame'>\n",
      "Int64Index: 984 entries, 0 to 1231\n",
      "Data columns (total 19 columns):\n",
      "client       984 non-null int32\n",
      "industry     984 non-null int32\n",
      "location     984 non-null int32\n",
      "closedpos    984 non-null int32\n",
      "type         984 non-null int32\n",
      "gender       984 non-null int32\n",
      "currloc      984 non-null int32\n",
      "jobloc       984 non-null int32\n",
      "venue        984 non-null int32\n",
      "permit       984 non-null int32\n",
      "meeting      984 non-null int32\n",
      "call         984 non-null int32\n",
      "no.          984 non-null int32\n",
      "resume       984 non-null int32\n",
      "clear        984 non-null int32\n",
      "letter       984 non-null int32\n",
      "expat        984 non-null int32\n",
      "obsat        984 non-null int32\n",
      "marit        984 non-null int32\n",
      "dtypes: int32(19)\n",
      "memory usage: 80.7 KB\n"
     ]
    }
   ],
   "source": [
    "df1.info()"
   ]
  },
  {
   "cell_type": "code",
   "execution_count": 11,
   "metadata": {},
   "outputs": [
    {
     "ename": "SyntaxError",
     "evalue": "invalid syntax (<ipython-input-11-446a5498ae9d>, line 2)",
     "output_type": "error",
     "traceback": [
      "\u001b[1;36m  File \u001b[1;32m\"<ipython-input-11-446a5498ae9d>\"\u001b[1;36m, line \u001b[1;32m2\u001b[0m\n\u001b[1;33m    print (i, df1[i].unique(),sep=\" \")\u001b[0m\n\u001b[1;37m                                 ^\u001b[0m\n\u001b[1;31mSyntaxError\u001b[0m\u001b[1;31m:\u001b[0m invalid syntax\n"
     ]
    }
   ],
   "source": [
    "for i in df1.columns:\n",
    "    print (i, df1[i].unique(),sep=\" \")"
   ]
  },
  {
   "cell_type": "markdown",
   "metadata": {},
   "source": [
    "## APPLYING DECISION TREE ON FULL DATASET CONSIDERING ALL FEATURES (0.763359301148,0.738217683452)"
   ]
  },
  {
   "cell_type": "code",
   "execution_count": 12,
   "metadata": {},
   "outputs": [],
   "source": [
    "X=df1.drop(\"obsat\",axis=1)"
   ]
  },
  {
   "cell_type": "code",
   "execution_count": 13,
   "metadata": {},
   "outputs": [],
   "source": [
    "y=df1[\"obsat\"]"
   ]
  },
  {
   "cell_type": "code",
   "execution_count": 14,
   "metadata": {},
   "outputs": [
    {
     "name": "stdout",
     "output_type": "stream",
     "text": [
      "((984, 18), (984L,))\n"
     ]
    }
   ],
   "source": [
    "print (X.shape,y.shape)"
   ]
  },
  {
   "cell_type": "code",
   "execution_count": 15,
   "metadata": {},
   "outputs": [
    {
     "name": "stdout",
     "output_type": "stream",
     "text": [
      "              precision    recall  f1-score   support\n",
      "\n",
      "           0       0.85      0.35      0.49       231\n",
      "           1       0.77      0.97      0.86       507\n",
      "\n",
      "   micro avg       0.78      0.78      0.78       738\n",
      "   macro avg       0.81      0.66      0.67       738\n",
      "weighted avg       0.79      0.78      0.74       738\n",
      "\n",
      "              precision    recall  f1-score   support\n",
      "\n",
      "           0       0.68      0.27      0.39        77\n",
      "           1       0.74      0.94      0.83       169\n",
      "\n",
      "   micro avg       0.73      0.73      0.73       246\n",
      "   macro avg       0.71      0.61      0.61       246\n",
      "weighted avg       0.72      0.73      0.69       246\n",
      "\n",
      "[[ 80 151]\n",
      " [ 14 493]]\n",
      "[[ 21  56]\n",
      " [ 10 159]]\n",
      "0.7764227642276422\n"
     ]
    }
   ],
   "source": [
    "from sklearn import model_selection\n",
    "Xtrain,Xtest,ytrain,ytest=model_selection.train_test_split(X,y,test_size=0.25,random_state=42)\n",
    "from sklearn.tree import DecisionTreeClassifier\n",
    "clf=DecisionTreeClassifier(criterion=\"entropy\")\n",
    "clf.fit(Xtrain,ytrain)\n",
    "y_pred=clf.predict(Xtest)\n",
    "from sklearn.metrics import classification_report,confusion_matrix,accuracy_score\n",
    "print (classification_report(ytrain,clf.predict(Xtrain)))\n",
    "print (classification_report(ytest,y_pred))\n",
    "print(confusion_matrix(ytrain,clf.predict(Xtrain)))\n",
    "print(confusion_matrix(ytest,y_pred))\n",
    "print(accuracy_score(ytrain,clf.predict(Xtrain)))"
   ]
  },
  {
   "cell_type": "code",
   "execution_count": 16,
   "metadata": {},
   "outputs": [
    {
     "name": "stdout",
     "output_type": "stream",
     "text": [
      "0.7364258296497923\n",
      "0.7633593011478645\n"
     ]
    }
   ],
   "source": [
    "from sklearn.metrics import average_precision_score\n",
    "print(average_precision_score(ytest,clf.predict(Xtest)))\n",
    "print(average_precision_score(ytrain,clf.predict(Xtrain)))"
   ]
  },
  {
   "cell_type": "markdown",
   "metadata": {},
   "source": [
    "# Feature importance"
   ]
  },
  {
   "cell_type": "code",
   "execution_count": 58,
   "metadata": {},
   "outputs": [
    {
     "name": "stdout",
     "output_type": "stream",
     "text": [
      "                imp\n",
      "expat      0.217204\n",
      "gender     0.091710\n",
      "type       0.086396\n",
      "closedpos  0.080003\n",
      "marit      0.076010\n",
      "permit     0.065045\n",
      "client     0.063092\n",
      "industry   0.060457\n",
      "letter     0.049309\n",
      "no.        0.035424\n",
      "currloc    0.031355\n",
      "meeting    0.028297\n",
      "resume     0.027056\n",
      "jobloc     0.024255\n",
      "clear      0.020872\n",
      "location   0.019775\n",
      "venue      0.014632\n",
      "call       0.009108\n"
     ]
    },
    {
     "name": "stderr",
     "output_type": "stream",
     "text": [
      "C:\\Users\\Dell\\Anaconda3\\lib\\site-packages\\sklearn\\ensemble\\forest.py:246: FutureWarning: The default value of n_estimators will change from 10 in version 0.20 to 100 in 0.22.\n",
      "  \"10 in version 0.20 to 100 in 0.22.\", FutureWarning)\n"
     ]
    }
   ],
   "source": [
    "from sklearn.ensemble import RandomForestClassifier\n",
    "rf=RandomForestClassifier()\n",
    "rf.fit(X,y)\n",
    "print (pd.DataFrame(rf.feature_importances_,index=X.columns,columns=[\"imp\"]).sort_values(\"imp\",ascending=False))"
   ]
  },
  {
   "cell_type": "markdown",
   "metadata": {},
   "source": [
    "#  Applying decision Tree on full dataset selecting first 10 features(0.760818859265,0.743314159262)"
   ]
  },
  {
   "cell_type": "code",
   "execution_count": 83,
   "metadata": {},
   "outputs": [
    {
     "name": "stdout",
     "output_type": "stream",
     "text": [
      "              precision    recall  f1-score   support\n",
      "\n",
      "           0       0.81      0.35      0.48       231\n",
      "           1       0.76      0.96      0.85       507\n",
      "\n",
      "   micro avg       0.77      0.77      0.77       738\n",
      "   macro avg       0.79      0.65      0.67       738\n",
      "weighted avg       0.78      0.77      0.74       738\n",
      "\n",
      "              precision    recall  f1-score   support\n",
      "\n",
      "           0       0.67      0.31      0.42        77\n",
      "           1       0.75      0.93      0.83       169\n",
      "\n",
      "   micro avg       0.74      0.74      0.74       246\n",
      "   macro avg       0.71      0.62      0.63       246\n",
      "weighted avg       0.72      0.74      0.70       246\n",
      "\n",
      "[[ 80 151]\n",
      " [ 19 488]]\n",
      "[[ 24  53]\n",
      " [ 12 157]]\n"
     ]
    }
   ],
   "source": [
    "X=df1[[\"expat\",\"type\",\"gender\",\"client\",\"letter\",\"resume\",\"marit\",\"closedpos\",\"permit\",\"industry\"]]\n",
    "y=df1[\"obsat\"]\n",
    "from sklearn import model_selection\n",
    "Xtrain,Xtest,ytrain,ytest=model_selection.train_test_split(X,y,test_size=0.25,random_state=42)\n",
    "from sklearn.tree import DecisionTreeClassifier\n",
    "clf=DecisionTreeClassifier(criterion=\"entropy\")\n",
    "clf.fit(Xtrain,ytrain)\n",
    "y_pred=clf.predict(Xtest)\n",
    "from sklearn.metrics import classification_report,confusion_matrix,accuracy_score\n",
    "print (classification_report(ytrain,clf.predict(Xtrain)))\n",
    "print (classification_report(ytest,y_pred))\n",
    "print(confusion_matrix(ytrain,clf.predict(Xtrain)))\n",
    "print(confusion_matrix(ytest,y_pred))"
   ]
  },
  {
   "cell_type": "code",
   "execution_count": 84,
   "metadata": {},
   "outputs": [
    {
     "name": "stdout",
     "output_type": "stream",
     "text": [
      "0.743314159262\n",
      "0.760818859265\n"
     ]
    }
   ],
   "source": [
    "from sklearn.metrics import average_precision_score\n",
    "print(average_precision_score(ytest,clf.predict(Xtest)))\n",
    "print(average_precision_score(ytrain,clf.predict(Xtrain)))"
   ]
  },
  {
   "cell_type": "markdown",
   "metadata": {},
   "source": [
    "# DecisionTree by balancing dataset and selecting first 10 features(0.675835216314,0.721488955072)"
   ]
  },
  {
   "cell_type": "code",
   "execution_count": 90,
   "metadata": {},
   "outputs": [
    {
     "name": "stdout",
     "output_type": "stream",
     "text": [
      "(984, 19)\n"
     ]
    }
   ],
   "source": [
    "c_1=0\n",
    "c_0=0\n",
    "Xtrain=df1.copy(deep=True)\n",
    "print (Xtrain.shape)"
   ]
  },
  {
   "cell_type": "code",
   "execution_count": 91,
   "metadata": {},
   "outputs": [],
   "source": [
    "for i,series in df1.iterrows():\n",
    "    if series[\"obsat\"]==1:\n",
    "        if c_1<320:\n",
    "            c_1+=1\n",
    "        else:\n",
    "            Xtrain.drop(i,axis=0,inplace=True)\n",
    "    else:\n",
    "        if c_0<308:\n",
    "            c_0+=1\n",
    "        else:\n",
    "            Xtrain.drop(i,axis=0,inplace=True)\n"
   ]
  },
  {
   "cell_type": "code",
   "execution_count": 92,
   "metadata": {},
   "outputs": [
    {
     "name": "stdout",
     "output_type": "stream",
     "text": [
      "(246, 10) (246,)\n"
     ]
    }
   ],
   "source": [
    "A,Xtest,B,ytest=model_selection.train_test_split(X,y,test_size=0.25,random_state=42)\n",
    "print(Xtest.shape,ytest.shape)"
   ]
  },
  {
   "cell_type": "code",
   "execution_count": 93,
   "metadata": {},
   "outputs": [
    {
     "name": "stdout",
     "output_type": "stream",
     "text": [
      "(628, 10) (628,) (246, 10) (246,)\n"
     ]
    }
   ],
   "source": [
    "ytrain=Xtrain[\"obsat\"]\n",
    "Xtrain.drop(\"obsat\",axis=1,inplace=True)\n",
    "XTrain=Xtrain[[\"expat\",\"type\",\"gender\",\"client\",\"letter\",\"resume\",\"marit\",\"closedpos\",\"permit\",\"industry\"]]\n",
    "print (XTrain.shape,ytrain.shape,Xtest.shape,ytest.shape)"
   ]
  },
  {
   "cell_type": "code",
   "execution_count": 94,
   "metadata": {},
   "outputs": [
    {
     "name": "stdout",
     "output_type": "stream",
     "text": [
      "              precision    recall  f1-score   support\n",
      "\n",
      "           0       0.69      0.78      0.73       308\n",
      "           1       0.76      0.67      0.71       320\n",
      "\n",
      "   micro avg       0.72      0.72      0.72       628\n",
      "   macro avg       0.73      0.72      0.72       628\n",
      "weighted avg       0.73      0.72      0.72       628\n",
      "\n",
      "              precision    recall  f1-score   support\n",
      "\n",
      "           0       0.36      0.74      0.49        77\n",
      "           1       0.77      0.40      0.53       169\n",
      "\n",
      "   micro avg       0.51      0.51      0.51       246\n",
      "   macro avg       0.57      0.57      0.51       246\n",
      "weighted avg       0.64      0.51      0.52       246\n",
      "\n",
      "[[239  69]\n",
      " [105 215]]\n",
      "[[ 57  20]\n",
      " [101  68]]\n",
      "0.721488955072\n",
      "0.675835216314\n"
     ]
    }
   ],
   "source": [
    "clf.fit(XTrain,ytrain)\n",
    "y_pred=clf.predict(Xtest)\n",
    "from sklearn.metrics import classification_report,confusion_matrix,accuracy_score\n",
    "print (classification_report(ytrain,clf.predict(XTrain)))\n",
    "print (classification_report(ytest,y_pred))\n",
    "print(confusion_matrix(ytrain,clf.predict(XTrain)))\n",
    "print(confusion_matrix(ytest,y_pred))\n",
    "print(average_precision_score(ytest,clf.predict(Xtest)))\n",
    "print(average_precision_score(ytrain,clf.predict(XTrain)))"
   ]
  },
  {
   "cell_type": "markdown",
   "metadata": {},
   "source": [
    "# RandomForest on full dataset 10 best features(0.758259959021,0.746637286876)\n"
   ]
  },
  {
   "cell_type": "code",
   "execution_count": 98,
   "metadata": {},
   "outputs": [
    {
     "name": "stdout",
     "output_type": "stream",
     "text": [
      "              precision    recall  f1-score   support\n",
      "\n",
      "           0       0.84      0.33      0.47       231\n",
      "           1       0.76      0.97      0.85       507\n",
      "\n",
      "   micro avg       0.77      0.77      0.77       738\n",
      "   macro avg       0.80      0.65      0.66       738\n",
      "weighted avg       0.78      0.77      0.73       738\n",
      "\n",
      "              precision    recall  f1-score   support\n",
      "\n",
      "           0       0.66      0.30      0.41        77\n",
      "           1       0.74      0.93      0.83       169\n",
      "\n",
      "   micro avg       0.73      0.73      0.73       246\n",
      "   macro avg       0.70      0.61      0.62       246\n",
      "weighted avg       0.72      0.73      0.70       246\n",
      "\n",
      "[[ 76 155]\n",
      " [ 15 492]]\n",
      "[[ 23  54]\n",
      " [ 12 157]]\n"
     ]
    },
    {
     "name": "stderr",
     "output_type": "stream",
     "text": [
      "C:\\Users\\Dell\\Anaconda3\\lib\\site-packages\\sklearn\\ensemble\\forest.py:246: FutureWarning: The default value of n_estimators will change from 10 in version 0.20 to 100 in 0.22.\n",
      "  \"10 in version 0.20 to 100 in 0.22.\", FutureWarning)\n"
     ]
    }
   ],
   "source": [
    "X=df1[[\"expat\",\"type\",\"gender\",\"client\",\"letter\",\"resume\",\"marit\",\"closedpos\",\"permit\",\"industry\"]]\n",
    "y=df1[\"obsat\"]\n",
    "from sklearn import model_selection\n",
    "Xtrain,Xtest,ytrain,ytest=model_selection.train_test_split(X,y,test_size=0.25,random_state=42)\n",
    "from sklearn.ensemble import RandomForestClassifier\n",
    "clf=RandomForestClassifier(criterion=\"entropy\")\n",
    "clf.fit(Xtrain,ytrain)\n",
    "y_pred=clf.predict(Xtest)\n",
    "from sklearn.metrics import classification_report,confusion_matrix,accuracy_score\n",
    "print (classification_report(ytrain,clf.predict(Xtrain)))\n",
    "print (classification_report(ytest,y_pred))\n",
    "print(confusion_matrix(ytrain,clf.predict(Xtrain)))\n",
    "print(confusion_matrix(ytest,y_pred))"
   ]
  },
  {
   "cell_type": "code",
   "execution_count": 99,
   "metadata": {},
   "outputs": [
    {
     "name": "stdout",
     "output_type": "stream",
     "text": [
      "0.740022530487\n",
      "0.758259959021\n"
     ]
    }
   ],
   "source": [
    "print(average_precision_score(ytest,clf.predict(Xtest)))\n",
    "print(average_precision_score(ytrain,clf.predict(Xtrain)))"
   ]
  },
  {
   "cell_type": "markdown",
   "metadata": {},
   "source": [
    "# RandomForest on balanced dataset selecting 10 features(0.675835216314,0.721488955072)"
   ]
  },
  {
   "cell_type": "code",
   "execution_count": 97,
   "metadata": {},
   "outputs": [
    {
     "name": "stdout",
     "output_type": "stream",
     "text": [
      "              precision    recall  f1-score   support\n",
      "\n",
      "           0       0.69      0.78      0.73       308\n",
      "           1       0.76      0.67      0.71       320\n",
      "\n",
      "   micro avg       0.72      0.72      0.72       628\n",
      "   macro avg       0.73      0.72      0.72       628\n",
      "weighted avg       0.73      0.72      0.72       628\n",
      "\n",
      "              precision    recall  f1-score   support\n",
      "\n",
      "           0       0.36      0.74      0.49        77\n",
      "           1       0.77      0.40      0.53       169\n",
      "\n",
      "   micro avg       0.51      0.51      0.51       246\n",
      "   macro avg       0.57      0.57      0.51       246\n",
      "weighted avg       0.64      0.51      0.52       246\n",
      "\n",
      "[[239  69]\n",
      " [105 215]]\n",
      "[[ 57  20]\n",
      " [101  68]]\n",
      "0.721488955072\n",
      "0.675835216314\n"
     ]
    }
   ],
   "source": [
    "c_1=0\n",
    "c_0=0\n",
    "Xtrain=df1.copy(deep=True)\n",
    "for i,series in df1.iterrows():\n",
    "    if series[\"obsat\"]==1:\n",
    "        if c_1<320:\n",
    "            c_1+=1\n",
    "        else:\n",
    "            Xtrain.drop(i,axis=0,inplace=True)\n",
    "    else:\n",
    "        if c_0<308:\n",
    "            c_0+=1\n",
    "        else:\n",
    "            Xtrain.drop(i,axis=0,inplace=True)\n",
    "A,Xtest,B,ytest=model_selection.train_test_split(X,y,test_size=0.25,random_state=42)\n",
    "ytrain=Xtrain[\"obsat\"]\n",
    "Xtrain.drop(\"obsat\",axis=1,inplace=True)\n",
    "XTrain=Xtrain[[\"expat\",\"type\",\"gender\",\"client\",\"letter\",\"resume\",\"marit\",\"closedpos\",\"permit\",\"industry\"]]\n",
    "clf.fit(XTrain,ytrain)\n",
    "y_pred=clf.predict(Xtest)\n",
    "from sklearn.metrics import classification_report,confusion_matrix,accuracy_score\n",
    "print (classification_report(ytrain,clf.predict(XTrain)))\n",
    "print (classification_report(ytest,y_pred))\n",
    "print(confusion_matrix(ytrain,clf.predict(XTrain)))\n",
    "print(confusion_matrix(ytest,y_pred))\n",
    "print(average_precision_score(ytest,clf.predict(Xtest)))\n",
    "print(average_precision_score(ytrain,clf.predict(XTrain)))\n"
   ]
  },
  {
   "cell_type": "code",
   "execution_count": null,
   "metadata": {},
   "outputs": [],
   "source": []
  }
 ],
 "metadata": {
  "kernelspec": {
   "display_name": "Python 3",
   "language": "python",
   "name": "python3"
  },
  "language_info": {
   "codemirror_mode": {
    "name": "ipython",
    "version": 3
   },
   "file_extension": ".py",
   "mimetype": "text/x-python",
   "name": "python",
   "nbconvert_exporter": "python",
   "pygments_lexer": "ipython3",
   "version": "3.7.1"
  }
 },
 "nbformat": 4,
 "nbformat_minor": 2
}
