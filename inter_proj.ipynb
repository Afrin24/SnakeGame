{
 "cells": [
  {
   "cell_type": "code",
   "execution_count": 1,
   "metadata": {},
   "outputs": [],
   "source": [
    "import numpy as np\n",
    "import pandas as pd\n",
    "import seaborn as sns\n",
    "import matplotlib.pyplot as plt\n",
    "import datetime\n",
    "df=pd.read_csv('C:/Users/Dell/Desktop/Interview.csv')"
   ]
  },
  {
   "cell_type": "code",
   "execution_count": 2,
   "metadata": {},
   "outputs": [
    {
     "name": "stdout",
     "output_type": "stream",
     "text": [
      "<class 'pandas.core.frame.DataFrame'>\n",
      "RangeIndex: 1234 entries, 0 to 1233\n",
      "Data columns (total 28 columns):\n",
      "Date of Interview                                                                                     1233 non-null object\n",
      "Client name                                                                                           1234 non-null object\n",
      "Industry                                                                                              1233 non-null object\n",
      "Location                                                                                              1233 non-null object\n",
      "Position to be closed                                                                                 1233 non-null object\n",
      "Nature of Skillset                                                                                    1233 non-null object\n",
      "Interview Type                                                                                        1233 non-null object\n",
      "Name(Cand ID)                                                                                         1233 non-null object\n",
      "Gender                                                                                                1233 non-null object\n",
      "Candidate Current Location                                                                            1233 non-null object\n",
      "Candidate Job Location                                                                                1233 non-null object\n",
      "Interview Venue                                                                                       1233 non-null object\n",
      "Candidate Native location                                                                             1233 non-null object\n",
      "Have you obtained the necessary permission to start at the required time                              1029 non-null object\n",
      "Hope there will be no unscheduled meetings                                                            986 non-null object\n",
      "Can I Call you three hours before the interview and follow up on your attendance for the interview    986 non-null object\n",
      "Can I have an alternative number/ desk number. I assure you that I will not trouble you too much      986 non-null object\n",
      "Have you taken a printout of your updated resume. Have you read the JD and understood the same        985 non-null object\n",
      "Are you clear with the venue details and the landmark.                                                985 non-null object\n",
      "Has the call letter been shared                                                                       988 non-null object\n",
      "Expected Attendance                                                                                   1228 non-null object\n",
      "Observed Attendance                                                                                   1233 non-null object\n",
      "Marital Status                                                                                        1233 non-null object\n",
      "Unnamed: 23                                                                                           0 non-null float64\n",
      "Unnamed: 24                                                                                           0 non-null float64\n",
      "Unnamed: 25                                                                                           0 non-null float64\n",
      "Unnamed: 26                                                                                           0 non-null float64\n",
      "Unnamed: 27                                                                                           0 non-null float64\n",
      "dtypes: float64(5), object(23)\n",
      "memory usage: 270.0+ KB\n"
     ]
    }
   ],
   "source": [
    "df.info()"
   ]
  },
  {
   "cell_type": "code",
   "execution_count": 3,
   "metadata": {},
   "outputs": [],
   "source": [
    "df.drop([\"Unnamed: 23\",'Unnamed: 24','Unnamed: 25','Unnamed: 26','Unnamed: 27'],axis=1,inplace=True)\n",
    "df.columns=['date','client','industry','location','closedpos','skills','type','id','gender','currloc','jobloc','venue','natloc','permit','meeting','call','no.','resume','clear','letter','expat','obsat','marit']\n"
   ]
  },
  {
   "cell_type": "code",
   "execution_count": 4,
   "metadata": {},
   "outputs": [
    {
     "name": "stdout",
     "output_type": "stream",
     "text": [
      "<class 'pandas.core.frame.DataFrame'>\n",
      "RangeIndex: 1234 entries, 0 to 1233\n",
      "Data columns (total 23 columns):\n",
      "date         1233 non-null object\n",
      "client       1234 non-null object\n",
      "industry     1233 non-null object\n",
      "location     1233 non-null object\n",
      "closedpos    1233 non-null object\n",
      "skills       1233 non-null object\n",
      "type         1233 non-null object\n",
      "id           1233 non-null object\n",
      "gender       1233 non-null object\n",
      "currloc      1233 non-null object\n",
      "jobloc       1233 non-null object\n",
      "venue        1233 non-null object\n",
      "natloc       1233 non-null object\n",
      "permit       1029 non-null object\n",
      "meeting      986 non-null object\n",
      "call         986 non-null object\n",
      "no.          986 non-null object\n",
      "resume       985 non-null object\n",
      "clear        985 non-null object\n",
      "letter       988 non-null object\n",
      "expat        1228 non-null object\n",
      "obsat        1233 non-null object\n",
      "marit        1233 non-null object\n",
      "dtypes: object(23)\n",
      "memory usage: 221.8+ KB\n"
     ]
    }
   ],
   "source": [
    "df.info()"
   ]
  },
  {
   "cell_type": "code",
   "execution_count": 5,
   "metadata": {},
   "outputs": [
    {
     "data": {
      "text/plain": [
       "1"
      ]
     },
     "execution_count": 5,
     "metadata": {},
     "output_type": "execute_result"
    }
   ],
   "source": [
    "df['date'].isnull().sum()"
   ]
  },
  {
   "cell_type": "code",
   "execution_count": 6,
   "metadata": {},
   "outputs": [],
   "source": [
    "df.drop(df.index[df[\"date\"].isnull()],axis=0,inplace=True)"
   ]
  },
  {
   "cell_type": "code",
   "execution_count": 7,
   "metadata": {},
   "outputs": [
    {
     "data": {
      "text/plain": [
       "array(['13.02.2015', '19.06.2015', '23.06.2015', '29.06.2015',\n",
       "       '25.06.2015', '25.05.16', '25.5.2016', '25-05-2016', '25.05.2016',\n",
       "       '04-12-2016', '13.04.2016', '27.02.2016', '07.05.2016', '5.5.16',\n",
       "       '4.5.16', '21.4.16', '22.4.16', '23.4.16', '15-Apr-16', '19-Apr-16',\n",
       "       '20-Apr-16', '21-Apr-16', '22-Apr-16', '25 – Apr-16', '25-Apr-16',\n",
       "       '18-Apr-16', '11.5.16', '10.5.16', '11.05.16', '12.04.2016',\n",
       "       '12.04.2017', '12.04.2018', '12.04.2019', '12.04.2020',\n",
       "       '12.04.2021', '12.04.2022', '12.04.2023', '8.5.16', '7.5.16',\n",
       "       '19.03.16', '24.05.2016', '05-11-2016', '26-05-2016', '10.05.2016',\n",
       "       '28.08.2016 & 09.00 AM', '28.08.2016 & 9.30 AM',\n",
       "       '28.8.2016 & 12.00 PM', '28.08.2016 & 09.30 AM',\n",
       "       '28.8.2016 & 10.30 AM', '28.8.2016 & 09.30 AM',\n",
       "       '28.8.2016 & 04.00 PM', '28.08.2016 & 11.30 AM',\n",
       "       '28.08.2016 & 11.00 AM', '28.08.2016 & 10.30 AM',\n",
       "       '28.8.2016 & 03.00 PM', '28.08.2016 & 10.00 AM',\n",
       "       '28.8.2016 & 02.00 PM', '28.8.2016 & 11.00 AM', '13.06.2016',\n",
       "       '02.09.2016', '02.12.2015', '23.02.2016', '22.03.2016',\n",
       "       '26.02.2016', '06.02.2016', '21.4.2016', '21-04-2016', '21.4.15',\n",
       "       '22.01.2016', '3.6.16', '03-06-2016', '09.01.2016', '09-01-2016',\n",
       "       '03.04.2015', '13-03-2015', '17-03-2015', '17.03.2015',\n",
       "       '18.03.2014', '4.04.15', '16.04.2015', '17.04.2015', '9.04.2015',\n",
       "       '05-02-2015', '30.05.2016', '07.06.2016', '20.08.2016',\n",
       "       '14.01.2016', '30.1.16 ', '30.01.2016', '30-01-2016', '30.1.16',\n",
       "       '30.1.2016', '30.01.16', '06.05.2016'], dtype=object)"
      ]
     },
     "execution_count": 7,
     "metadata": {},
     "output_type": "execute_result"
    }
   ],
   "source": [
    "df[\"date\"].unique()"
   ]
  },
  {
   "cell_type": "code",
   "execution_count": 8,
   "metadata": {},
   "outputs": [],
   "source": [
    "df.date=df.date.str.replace(\" \",\"\")"
   ]
  },
  {
   "cell_type": "code",
   "execution_count": 9,
   "metadata": {},
   "outputs": [
    {
     "data": {
      "text/plain": [
       "array(['13.02.2015', '19.06.2015', '23.06.2015', '29.06.2015',\n",
       "       '25.06.2015', '25.05.16', '25.5.2016', '25-05-2016', '25.05.2016',\n",
       "       '04-12-2016', '13.04.2016', '27.02.2016', '07.05.2016', '5.5.16',\n",
       "       '4.5.16', '21.4.16', '22.4.16', '23.4.16', '15-Apr-16', '19-Apr-16',\n",
       "       '20-Apr-16', '21-Apr-16', '22-Apr-16', '25–Apr-16', '25-Apr-16',\n",
       "       '18-Apr-16', '11.5.16', '10.5.16', '11.05.16', '12.04.2016',\n",
       "       '12.04.2017', '12.04.2018', '12.04.2019', '12.04.2020',\n",
       "       '12.04.2021', '12.04.2022', '12.04.2023', '8.5.16', '7.5.16',\n",
       "       '19.03.16', '24.05.2016', '05-11-2016', '26-05-2016', '10.05.2016',\n",
       "       '28.08.2016&09.00AM', '28.08.2016&9.30AM', '28.8.2016&12.00PM',\n",
       "       '28.08.2016&09.30AM', '28.8.2016&10.30AM', '28.8.2016&09.30AM',\n",
       "       '28.8.2016&04.00PM', '28.08.2016&11.30AM', '28.08.2016&11.00AM',\n",
       "       '28.08.2016&10.30AM', '28.8.2016&03.00PM', '28.08.2016&10.00AM',\n",
       "       '28.8.2016&02.00PM', '28.8.2016&11.00AM', '13.06.2016',\n",
       "       '02.09.2016', '02.12.2015', '23.02.2016', '22.03.2016',\n",
       "       '26.02.2016', '06.02.2016', '21.4.2016', '21-04-2016', '21.4.15',\n",
       "       '22.01.2016', '3.6.16', '03-06-2016', '09.01.2016', '09-01-2016',\n",
       "       '03.04.2015', '13-03-2015', '17-03-2015', '17.03.2015',\n",
       "       '18.03.2014', '4.04.15', '16.04.2015', '17.04.2015', '9.04.2015',\n",
       "       '05-02-2015', '30.05.2016', '07.06.2016', '20.08.2016',\n",
       "       '14.01.2016', '30.1.16', '30.01.2016', '30-01-2016', '30.1.2016',\n",
       "       '30.01.16', '06.05.2016'], dtype=object)"
      ]
     },
     "execution_count": 9,
     "metadata": {},
     "output_type": "execute_result"
    }
   ],
   "source": [
    "df.date.unique()"
   ]
  },
  {
   "cell_type": "code",
   "execution_count": 10,
   "metadata": {},
   "outputs": [],
   "source": [
    "df.date=df.date.str.replace(r'&\\d[\\d].\\d\\d\\w\\w','')"
   ]
  },
  {
   "cell_type": "code",
   "execution_count": 11,
   "metadata": {},
   "outputs": [],
   "source": [
    "df.date=df.date.str.replace(r'&\\d.\\d\\d\\w\\w','')"
   ]
  },
  {
   "cell_type": "code",
   "execution_count": 12,
   "metadata": {},
   "outputs": [],
   "source": [
    "df.date=df.date.str.replace('/','.')"
   ]
  },
  {
   "cell_type": "code",
   "execution_count": 13,
   "metadata": {},
   "outputs": [],
   "source": [
    "df.date=df.date.str.replace('-Apr-','.04.')"
   ]
  },
  {
   "cell_type": "code",
   "execution_count": 14,
   "metadata": {},
   "outputs": [],
   "source": [
    "df.date=df.date.str.replace('–Apr-','.04.')"
   ]
  },
  {
   "cell_type": "code",
   "execution_count": 15,
   "metadata": {},
   "outputs": [],
   "source": [
    "df.date=df.date.str.replace('Apr','.04.')"
   ]
  },
  {
   "cell_type": "code",
   "execution_count": 16,
   "metadata": {},
   "outputs": [],
   "source": [
    "#df.date=df.date.str.replace('.16','.2016')"
   ]
  },
  {
   "cell_type": "code",
   "execution_count": 17,
   "metadata": {},
   "outputs": [],
   "source": [
    "#df.date=df.date.str.replace('.15','.2015')\n",
    "df.date=df.date.str.replace(r'\\W16','.2016')\n",
    "df.date=df.date.str.replace(r'\\W15','.2015')\n",
    "df.date=df.date.str.replace('-','.')"
   ]
  },
  {
   "cell_type": "code",
   "execution_count": 18,
   "metadata": {},
   "outputs": [
    {
     "data": {
      "text/plain": [
       "array(['13.02.2015', '19.06.2015', '23.06.2015', '29.06.2015',\n",
       "       '25.06.2015', '25.05.2016', '25.5.2016', '04.12.2016', '13.04.2016',\n",
       "       '27.02.2016', '07.05.2016', '5.5.2016', '4.5.2016', '21.4.2016',\n",
       "       '22.4.2016', '23.4.2016', '15.04.2016', '19.04.2016', '20.04.2016',\n",
       "       '21.04.2016', '22.04.2016', '25.04.2016', '18.04.2016', '11.5.2016',\n",
       "       '10.5.2016', '11.05.2016', '12.04.2016', '12.04.2017', '12.04.2018',\n",
       "       '12.04.2019', '12.04.2020', '12.04.2021', '12.04.2022',\n",
       "       '12.04.2023', '8.5.2016', '7.5.2016', '19.03.2016', '24.05.2016',\n",
       "       '05.11.2016', '26.05.2016', '10.05.2016', '28.08.2016', '28.8.2016',\n",
       "       '13.06.2016', '02.09.2016', '02.12.2015', '23.02.2016',\n",
       "       '22.03.2016', '26.02.2016', '06.02.2016', '21.4.2015', '22.01.2016',\n",
       "       '3.6.2016', '03.06.2016', '09.01.2016', '03.04.2015', '13.03.2015',\n",
       "       '17.03.2015', '18.03.2014', '4.04.2015', '16.04.2015', '17.04.2015',\n",
       "       '9.04.2015', '05.02.2015', '30.05.2016', '07.06.2016', '20.08.2016',\n",
       "       '14.01.2016', '30.1.2016', '30.01.2016', '06.05.2016'], dtype=object)"
      ]
     },
     "execution_count": 18,
     "metadata": {},
     "output_type": "execute_result"
    }
   ],
   "source": [
    "df.date.unique()"
   ]
  },
  {
   "cell_type": "code",
   "execution_count": 19,
   "metadata": {},
   "outputs": [
    {
     "data": {
      "text/plain": [
       "array(['2015-02-13T00:00:00.000000000', '2015-06-19T00:00:00.000000000',\n",
       "       '2015-06-23T00:00:00.000000000', '2015-06-29T00:00:00.000000000',\n",
       "       '2015-06-25T00:00:00.000000000', '2016-05-25T00:00:00.000000000',\n",
       "       '2016-12-04T00:00:00.000000000', '2016-04-13T00:00:00.000000000',\n",
       "       '2016-02-27T00:00:00.000000000', '2016-05-07T00:00:00.000000000',\n",
       "       '2016-05-05T00:00:00.000000000', '2016-05-04T00:00:00.000000000',\n",
       "       '2016-04-21T00:00:00.000000000', '2016-04-22T00:00:00.000000000',\n",
       "       '2016-04-23T00:00:00.000000000', '2016-04-15T00:00:00.000000000',\n",
       "       '2016-04-19T00:00:00.000000000', '2016-04-20T00:00:00.000000000',\n",
       "       '2016-04-25T00:00:00.000000000', '2016-04-18T00:00:00.000000000',\n",
       "       '2016-05-11T00:00:00.000000000', '2016-05-10T00:00:00.000000000',\n",
       "       '2016-04-12T00:00:00.000000000', '2017-04-12T00:00:00.000000000',\n",
       "       '2018-04-12T00:00:00.000000000', '2019-04-12T00:00:00.000000000',\n",
       "       '2020-04-12T00:00:00.000000000', '2021-04-12T00:00:00.000000000',\n",
       "       '2022-04-12T00:00:00.000000000', '2023-04-12T00:00:00.000000000',\n",
       "       '2016-05-08T00:00:00.000000000', '2016-03-19T00:00:00.000000000',\n",
       "       '2016-05-24T00:00:00.000000000', '2016-11-05T00:00:00.000000000',\n",
       "       '2016-05-26T00:00:00.000000000', '2016-08-28T00:00:00.000000000',\n",
       "       '2016-06-13T00:00:00.000000000', '2016-09-02T00:00:00.000000000',\n",
       "       '2015-12-02T00:00:00.000000000', '2016-02-23T00:00:00.000000000',\n",
       "       '2016-03-22T00:00:00.000000000', '2016-02-26T00:00:00.000000000',\n",
       "       '2016-02-06T00:00:00.000000000', '2015-04-21T00:00:00.000000000',\n",
       "       '2016-01-22T00:00:00.000000000', '2016-06-03T00:00:00.000000000',\n",
       "       '2016-01-09T00:00:00.000000000', '2015-04-03T00:00:00.000000000',\n",
       "       '2015-03-13T00:00:00.000000000', '2015-03-17T00:00:00.000000000',\n",
       "       '2014-03-18T00:00:00.000000000', '2015-04-04T00:00:00.000000000',\n",
       "       '2015-04-16T00:00:00.000000000', '2015-04-17T00:00:00.000000000',\n",
       "       '2015-04-09T00:00:00.000000000', '2015-02-05T00:00:00.000000000',\n",
       "       '2016-05-30T00:00:00.000000000', '2016-06-07T00:00:00.000000000',\n",
       "       '2016-08-20T00:00:00.000000000', '2016-01-14T00:00:00.000000000',\n",
       "       '2016-01-30T00:00:00.000000000', '2016-05-06T00:00:00.000000000'], dtype='datetime64[ns]')"
      ]
     },
     "execution_count": 19,
     "metadata": {},
     "output_type": "execute_result"
    }
   ],
   "source": [
    "from datetime import datetime\n",
    "df['date']=pd.to_datetime(df['date'],format='%d.%m.%Y')\n",
    "df.date.unique()"
   ]
  },
  {
   "cell_type": "code",
   "execution_count": 20,
   "metadata": {},
   "outputs": [
    {
     "data": {
      "text/plain": [
       "pandas.core.series.Series"
      ]
     },
     "execution_count": 20,
     "metadata": {},
     "output_type": "execute_result"
    }
   ],
   "source": [
    "type(df['date'])"
   ]
  },
  {
   "cell_type": "code",
   "execution_count": 21,
   "metadata": {},
   "outputs": [
    {
     "data": {
      "text/plain": [
       "pandas._libs.tslibs.timestamps.Timestamp"
      ]
     },
     "execution_count": 21,
     "metadata": {},
     "output_type": "execute_result"
    }
   ],
   "source": [
    "type(df.iloc[0,0])"
   ]
  },
  {
   "cell_type": "code",
   "execution_count": null,
   "metadata": {},
   "outputs": [],
   "source": [
    "df.info()"
   ]
  },
  {
   "cell_type": "code",
   "execution_count": null,
   "metadata": {},
   "outputs": [],
   "source": [
    "df['client'].unique()"
   ]
  },
  {
   "cell_type": "code",
   "execution_count": null,
   "metadata": {
    "scrolled": true
   },
   "outputs": [],
   "source": [
    "df['client'].replace({'Hospira':'H','Aon Hewitt':'A','UST':'U','Standard Chartered Bank':'S','ANZ':'A1','Pfizer':'P','Standard Chartered Bank Chennai':'S','Aon hewitt Gurgaon':'A','Astrazeneca':'As','Flextronics':'F','Prodapt':'P1','Williams Lea':'W','Barclays':'B','Hewitt':'A','Woori Bank':'Wb'},inplace=True)"
   ]
  },
  {
   "cell_type": "code",
   "execution_count": null,
   "metadata": {},
   "outputs": [],
   "source": [
    "df.client.unique()"
   ]
  },
  {
   "cell_type": "code",
   "execution_count": null,
   "metadata": {},
   "outputs": [],
   "source": [
    "df['industry'].unique()"
   ]
  },
  {
   "cell_type": "code",
   "execution_count": null,
   "metadata": {},
   "outputs": [],
   "source": [
    "df.describe()"
   ]
  },
  {
   "cell_type": "code",
   "execution_count": null,
   "metadata": {},
   "outputs": [],
   "source": [
    "df['industry'].replace({'Pharmaceuticals':'P','IT Services':'I','IT Products and Services':'I','Electronics':'E','Telecom':'E','IT':'I','BFSI':'B'},inplace=True)"
   ]
  },
  {
   "cell_type": "code",
   "execution_count": null,
   "metadata": {},
   "outputs": [],
   "source": [
    "df['industry'].unique()"
   ]
  },
  {
   "cell_type": "code",
   "execution_count": null,
   "metadata": {},
   "outputs": [],
   "source": [
    "df.meeting.unique()"
   ]
  },
  {
   "cell_type": "code",
   "execution_count": null,
   "metadata": {},
   "outputs": [],
   "source": [
    "df[df.meeting.isnull()]"
   ]
  },
  {
   "cell_type": "code",
   "execution_count": null,
   "metadata": {},
   "outputs": [],
   "source": [
    "df.drop(df.index[df.meeting.isnull()],axis=0,inplace=True)"
   ]
  },
  {
   "cell_type": "code",
   "execution_count": null,
   "metadata": {},
   "outputs": [],
   "source": [
    "df.meeting.value_counts()"
   ]
  },
  {
   "cell_type": "code",
   "execution_count": null,
   "metadata": {},
   "outputs": [],
   "source": [
    "df.meeting.replace({'Yes':'Y','Na':'N','No':'N','yes':'Y','Not sure':'N','Not Sure':'N','cant Say':'N'},inplace=True)"
   ]
  },
  {
   "cell_type": "code",
   "execution_count": null,
   "metadata": {},
   "outputs": [],
   "source": [
    "df.meeting.unique()"
   ]
  },
  {
   "cell_type": "code",
   "execution_count": null,
   "metadata": {},
   "outputs": [],
   "source": [
    "df.meeting.value_counts()"
   ]
  },
  {
   "cell_type": "code",
   "execution_count": null,
   "metadata": {},
   "outputs": [],
   "source": [
    "df.info()"
   ]
  },
  {
   "cell_type": "code",
   "execution_count": null,
   "metadata": {
    "scrolled": true
   },
   "outputs": [],
   "source": [
    "df[df[\"permit\"].isnull()]"
   ]
  },
  {
   "cell_type": "code",
   "execution_count": null,
   "metadata": {},
   "outputs": [],
   "source": [
    "df.drop(df.index[df.permit.isnull()],axis=0,inplace=True)"
   ]
  },
  {
   "cell_type": "code",
   "execution_count": null,
   "metadata": {},
   "outputs": [],
   "source": [
    "df.permit.unique()"
   ]
  },
  {
   "cell_type": "code",
   "execution_count": null,
   "metadata": {},
   "outputs": [],
   "source": [
    "df.permit.replace({'Yes':'Y','No':'N','Not yet':'N','Yet to confirm':'N','yes':'Y','Na':'N'},inplace=True)"
   ]
  },
  {
   "cell_type": "code",
   "execution_count": null,
   "metadata": {},
   "outputs": [],
   "source": [
    "df.permit.unique()"
   ]
  },
  {
   "cell_type": "code",
   "execution_count": null,
   "metadata": {},
   "outputs": [],
   "source": [
    "df.info()"
   ]
  },
  {
   "cell_type": "code",
   "execution_count": null,
   "metadata": {},
   "outputs": [],
   "source": [
    "df[df.resume.isnull()]"
   ]
  },
  {
   "cell_type": "code",
   "execution_count": null,
   "metadata": {},
   "outputs": [],
   "source": [
    "df.drop(df.index[df.resume.isnull()],axis=0,inplace=True)"
   ]
  },
  {
   "cell_type": "code",
   "execution_count": null,
   "metadata": {},
   "outputs": [],
   "source": [
    "df.info()"
   ]
  },
  {
   "cell_type": "code",
   "execution_count": null,
   "metadata": {},
   "outputs": [],
   "source": [
    "df.marit.unique()"
   ]
  },
  {
   "cell_type": "code",
   "execution_count": null,
   "metadata": {},
   "outputs": [],
   "source": [
    "from sklearn import preprocessing\n",
    "le=preprocessing.LabelEncoder()\n",
    "df.loc[:,\"marit\"]=le.fit_transform(df.loc[:,\"marit\"])"
   ]
  },
  {
   "cell_type": "code",
   "execution_count": null,
   "metadata": {},
   "outputs": [],
   "source": [
    "df.marit.unique()"
   ]
  },
  {
   "cell_type": "code",
   "execution_count": null,
   "metadata": {},
   "outputs": [],
   "source": [
    "df.obsat.unique()"
   ]
  },
  {
   "cell_type": "code",
   "execution_count": null,
   "metadata": {},
   "outputs": [],
   "source": [
    "df.obsat.replace({'No':'N','Yes':'Y','yes':'Y','no':'N','yes ':'Y','No ':'N','NO':'N','no ':'N'},inplace=True)"
   ]
  },
  {
   "cell_type": "code",
   "execution_count": null,
   "metadata": {},
   "outputs": [],
   "source": [
    "df.loc[:,'obsat']=le.fit_transform(df.loc[:,'obsat'])"
   ]
  },
  {
   "cell_type": "code",
   "execution_count": null,
   "metadata": {},
   "outputs": [],
   "source": [
    "df.obsat.unique()"
   ]
  },
  {
   "cell_type": "code",
   "execution_count": null,
   "metadata": {
    "scrolled": true
   },
   "outputs": [],
   "source": [
    "df[\"obsat\"]"
   ]
  },
  {
   "cell_type": "code",
   "execution_count": null,
   "metadata": {},
   "outputs": [],
   "source": [
    "df.permit.unique()"
   ]
  },
  {
   "cell_type": "code",
   "execution_count": null,
   "metadata": {},
   "outputs": [],
   "source": [
    "df['permit']=le.fit_transform(df['permit'])"
   ]
  },
  {
   "cell_type": "code",
   "execution_count": null,
   "metadata": {},
   "outputs": [],
   "source": [
    "df.permit.unique()"
   ]
  },
  {
   "cell_type": "code",
   "execution_count": null,
   "metadata": {},
   "outputs": [],
   "source": [
    "df.info()"
   ]
  },
  {
   "cell_type": "code",
   "execution_count": null,
   "metadata": {},
   "outputs": [],
   "source": [
    "df['expat'].unique()"
   ]
  },
  {
   "cell_type": "code",
   "execution_count": null,
   "metadata": {},
   "outputs": [],
   "source": [
    "df['expat'].replace({'Yes':'Y','Uncertain':'N','No':'N','yes':'Y','11:00 AM':'Y','10.30 Am':'Y'},inplace=True)"
   ]
  },
  {
   "cell_type": "code",
   "execution_count": null,
   "metadata": {},
   "outputs": [],
   "source": [
    "df['expat']=le.fit_transform(df['expat'])"
   ]
  },
  {
   "cell_type": "code",
   "execution_count": null,
   "metadata": {},
   "outputs": [],
   "source": [
    "df.expat.unique()"
   ]
  },
  {
   "cell_type": "code",
   "execution_count": null,
   "metadata": {},
   "outputs": [],
   "source": [
    "df['letter'].unique()"
   ]
  },
  {
   "cell_type": "code",
   "execution_count": null,
   "metadata": {},
   "outputs": [],
   "source": [
    "df['letter'].replace({'Yes':'Y', 'Havent Checked':'N', 'No':'N', 'Need To Check':'N', 'Not sure':'N','Not Sure':'N', 'Not yet':'N', 'no':'N', 'yes':'Y', 'Na':'N'},inplace=True)"
   ]
  },
  {
   "cell_type": "code",
   "execution_count": null,
   "metadata": {},
   "outputs": [],
   "source": [
    "df['letter']=le.fit_transform(df['letter'])"
   ]
  },
  {
   "cell_type": "code",
   "execution_count": null,
   "metadata": {},
   "outputs": [],
   "source": [
    "df.letter.unique()"
   ]
  },
  {
   "cell_type": "code",
   "execution_count": null,
   "metadata": {},
   "outputs": [],
   "source": [
    "df['clear'].unique()"
   ]
  },
  {
   "cell_type": "code",
   "execution_count": null,
   "metadata": {},
   "outputs": [],
   "source": [
    "df['clear'].replace({'Yes':'Y', 'No':'N', 'No- I need to check':'N', 'yes':'Y', 'Na':'N', 'no':'N'},inplace=True)"
   ]
  },
  {
   "cell_type": "code",
   "execution_count": null,
   "metadata": {},
   "outputs": [],
   "source": [
    "df['clear']=le.fit_transform(df['clear'])"
   ]
  },
  {
   "cell_type": "code",
   "execution_count": null,
   "metadata": {},
   "outputs": [],
   "source": [
    "df['clear'].unique()"
   ]
  },
  {
   "cell_type": "code",
   "execution_count": null,
   "metadata": {},
   "outputs": [],
   "source": [
    "df['resume'].unique()"
   ]
  },
  {
   "cell_type": "code",
   "execution_count": null,
   "metadata": {},
   "outputs": [],
   "source": [
    "df['resume'].replace({'Yes':'Y', 'No':'N', 'No- will take it soon':'N', 'Not yet':'N', 'yes':'Y', 'Na':'N',\n",
    "       'Not Yet':'N'},inplace=True)"
   ]
  },
  {
   "cell_type": "code",
   "execution_count": null,
   "metadata": {},
   "outputs": [],
   "source": [
    "df['resume']=le.fit_transform(df['resume'])"
   ]
  },
  {
   "cell_type": "code",
   "execution_count": null,
   "metadata": {},
   "outputs": [],
   "source": [
    "df['resume'].unique()"
   ]
  },
  {
   "cell_type": "code",
   "execution_count": null,
   "metadata": {},
   "outputs": [],
   "source": [
    "df['no.'].unique()"
   ]
  },
  {
   "cell_type": "code",
   "execution_count": null,
   "metadata": {},
   "outputs": [],
   "source": [
    "df['no.'].replace({'Yes':'Y', 'No':'N', 'No I have only thi number':'N', 'yes':'Y', 'Na':'N'},inplace=True)"
   ]
  },
  {
   "cell_type": "code",
   "execution_count": null,
   "metadata": {},
   "outputs": [],
   "source": [
    "df['no.']=le.fit_transform(df['no.'])"
   ]
  },
  {
   "cell_type": "code",
   "execution_count": null,
   "metadata": {},
   "outputs": [],
   "source": [
    "df['no.'].unique()"
   ]
  },
  {
   "cell_type": "code",
   "execution_count": null,
   "metadata": {},
   "outputs": [],
   "source": [
    "df['call'].unique()"
   ]
  },
  {
   "cell_type": "code",
   "execution_count": null,
   "metadata": {},
   "outputs": [],
   "source": [
    "df['call'].replace({'Yes':'Y', 'No':'N', 'No Dont':'N', 'yes':'Y', 'Na':'N'},inplace=True)"
   ]
  },
  {
   "cell_type": "code",
   "execution_count": null,
   "metadata": {},
   "outputs": [],
   "source": [
    "df['call']=le.fit_transform(df['call'])"
   ]
  },
  {
   "cell_type": "code",
   "execution_count": null,
   "metadata": {},
   "outputs": [],
   "source": [
    "df['call'].unique()"
   ]
  },
  {
   "cell_type": "code",
   "execution_count": null,
   "metadata": {},
   "outputs": [],
   "source": [
    "df['natloc'].unique()"
   ]
  },
  {
   "cell_type": "code",
   "execution_count": null,
   "metadata": {},
   "outputs": [],
   "source": [
    "df.currloc.unique()"
   ]
  },
  {
   "cell_type": "code",
   "execution_count": null,
   "metadata": {},
   "outputs": [],
   "source": [
    "df.currloc.replace({'Chennai':'C','Gurgaon':'G','Bangalore':'B','Hyderabad':'H','Delhi':'D','chennai':'C','- Cochin- ':'K','Noida':'N','CHENNAI':'C','chennai ':'C'},inplace=True)"
   ]
  },
  {
   "cell_type": "code",
   "execution_count": null,
   "metadata": {},
   "outputs": [],
   "source": [
    "df=pd.concat([df,pd.get_dummies(df['currloc'],prefix='cl_')],axis=1)"
   ]
  },
  {
   "cell_type": "code",
   "execution_count": null,
   "metadata": {},
   "outputs": [],
   "source": [
    "df.drop('currloc',axis=1,inplace=True)"
   ]
  },
  {
   "cell_type": "code",
   "execution_count": null,
   "metadata": {
    "scrolled": true
   },
   "outputs": [],
   "source": [
    "df.info()"
   ]
  },
  {
   "cell_type": "code",
   "execution_count": null,
   "metadata": {},
   "outputs": [],
   "source": [
    "df.venue.unique()"
   ]
  },
  {
   "cell_type": "code",
   "execution_count": null,
   "metadata": {},
   "outputs": [],
   "source": [
    "df.venue.replace({'Hosur':'H', 'Gurgaon':'G', 'Bangalore':'B', 'Chennai':'C', 'Hyderabad':'H',\n",
    "       '- Cochin- ':'K', 'Noida':'N'},inplace=True)"
   ]
  },
  {
   "cell_type": "code",
   "execution_count": null,
   "metadata": {},
   "outputs": [],
   "source": [
    "df=pd.concat([df,pd.get_dummies(df['venue'],prefix='ven_')],axis=1)"
   ]
  },
  {
   "cell_type": "code",
   "execution_count": null,
   "metadata": {},
   "outputs": [],
   "source": [
    "df.drop('venue',axis=1,inplace=True)"
   ]
  },
  {
   "cell_type": "code",
   "execution_count": null,
   "metadata": {},
   "outputs": [],
   "source": [
    "df.info()"
   ]
  },
  {
   "cell_type": "code",
   "execution_count": null,
   "metadata": {},
   "outputs": [],
   "source": [
    "df.jobloc.unique()"
   ]
  },
  {
   "cell_type": "code",
   "execution_count": null,
   "metadata": {},
   "outputs": [],
   "source": [
    "df.jobloc.replace({'Hosur':'H', 'Bangalore':'B', 'Chennai':\"C\", 'Gurgaon':'G', 'Visakapatinam':'V',\n",
    "       '- Cochin- ':'K', 'Noida':'N'},inplace=True)"
   ]
  },
  {
   "cell_type": "code",
   "execution_count": null,
   "metadata": {},
   "outputs": [],
   "source": [
    "df=pd.concat([df,pd.get_dummies(df['jobloc'],prefix='job_')],axis=1)"
   ]
  },
  {
   "cell_type": "code",
   "execution_count": null,
   "metadata": {},
   "outputs": [],
   "source": [
    "df.drop('jobloc',axis=1,inplace=True)"
   ]
  },
  {
   "cell_type": "code",
   "execution_count": null,
   "metadata": {},
   "outputs": [],
   "source": [
    "df.info()"
   ]
  },
  {
   "cell_type": "code",
   "execution_count": null,
   "metadata": {},
   "outputs": [],
   "source": [
    "df.gender.unique()"
   ]
  },
  {
   "cell_type": "code",
   "execution_count": null,
   "metadata": {},
   "outputs": [],
   "source": [
    "df['gender']=le.fit_transform(df['gender'])"
   ]
  },
  {
   "cell_type": "code",
   "execution_count": null,
   "metadata": {},
   "outputs": [],
   "source": [
    "df.gender.unique()"
   ]
  },
  {
   "cell_type": "code",
   "execution_count": null,
   "metadata": {},
   "outputs": [],
   "source": [
    "df.id.unique()"
   ]
  },
  {
   "cell_type": "code",
   "execution_count": null,
   "metadata": {
    "scrolled": true
   },
   "outputs": [],
   "source": [
    "df.head()"
   ]
  },
  {
   "cell_type": "code",
   "execution_count": null,
   "metadata": {},
   "outputs": [],
   "source": [
    "df.drop('id',axis=1,inplace=True)"
   ]
  },
  {
   "cell_type": "code",
   "execution_count": null,
   "metadata": {},
   "outputs": [],
   "source": [
    "df.head()"
   ]
  },
  {
   "cell_type": "code",
   "execution_count": null,
   "metadata": {},
   "outputs": [],
   "source": [
    "df['type'].unique()"
   ]
  },
  {
   "cell_type": "code",
   "execution_count": null,
   "metadata": {},
   "outputs": [],
   "source": [
    "df['type'].replace({'Scheduled Walkin':'SW', 'Scheduled ':'S', 'Walkin':'W', 'Scheduled Walk In':'SW',\n",
    "       'Walkin ':'W'},inplace=True)"
   ]
  },
  {
   "cell_type": "code",
   "execution_count": null,
   "metadata": {},
   "outputs": [],
   "source": [
    "df=pd.concat([df,pd.get_dummies(df['type'],prefix='type_')],axis=1)"
   ]
  },
  {
   "cell_type": "code",
   "execution_count": null,
   "metadata": {},
   "outputs": [],
   "source": [
    "df.info()"
   ]
  },
  {
   "cell_type": "code",
   "execution_count": null,
   "metadata": {},
   "outputs": [],
   "source": [
    "df.skills.unique()"
   ]
  },
  {
   "cell_type": "code",
   "execution_count": null,
   "metadata": {},
   "outputs": [],
   "source": [
    "df.closedpos.unique()"
   ]
  },
  {
   "cell_type": "code",
   "execution_count": null,
   "metadata": {},
   "outputs": [],
   "source": [
    "df.location.unique()"
   ]
  },
  {
   "cell_type": "code",
   "execution_count": null,
   "metadata": {},
   "outputs": [],
   "source": [
    "df.location.replace({'Chennai':'C', 'Gurgaon':'G', 'Bangalore':'B', 'Hyderabad':'H', 'Gurgaonr':'G',\n",
    "       'Delhi':'D', 'chennai':'C', '- Cochin- ':'K', 'Noida':'N', 'CHENNAI':'C', 'chennai ':'C'},inplace=True)"
   ]
  },
  {
   "cell_type": "code",
   "execution_count": null,
   "metadata": {},
   "outputs": [],
   "source": [
    "df=pd.concat([df,pd.get_dummies(df['location'],prefix='loc_')],axis=1)"
   ]
  },
  {
   "cell_type": "code",
   "execution_count": null,
   "metadata": {},
   "outputs": [],
   "source": [
    "df.drop('location',axis=1,inplace=True)"
   ]
  },
  {
   "cell_type": "code",
   "execution_count": null,
   "metadata": {},
   "outputs": [],
   "source": [
    "df.drop('type',axis=1,inplace=True)"
   ]
  },
  {
   "cell_type": "code",
   "execution_count": null,
   "metadata": {},
   "outputs": [],
   "source": [
    "df.info()"
   ]
  },
  {
   "cell_type": "code",
   "execution_count": null,
   "metadata": {},
   "outputs": [],
   "source": [
    "df.client.unique()"
   ]
  },
  {
   "cell_type": "code",
   "execution_count": null,
   "metadata": {},
   "outputs": [],
   "source": [
    "df.industry.unique()"
   ]
  },
  {
   "cell_type": "code",
   "execution_count": null,
   "metadata": {},
   "outputs": [],
   "source": [
    "df=pd.concat([df,pd.get_dummies(df['industry'],prefix='indust_')],axis=1)\n",
    "df.drop('industry',axis=1,inplace=True)"
   ]
  },
  {
   "cell_type": "code",
   "execution_count": null,
   "metadata": {},
   "outputs": [],
   "source": [
    "df.info()"
   ]
  },
  {
   "cell_type": "code",
   "execution_count": null,
   "metadata": {},
   "outputs": [],
   "source": [
    "df.closedpos.unique()"
   ]
  },
  {
   "cell_type": "code",
   "execution_count": null,
   "metadata": {},
   "outputs": [],
   "source": [
    "df.drop('cl__B',axis=1,inplace=True)"
   ]
  },
  {
   "cell_type": "code",
   "execution_count": null,
   "metadata": {},
   "outputs": [],
   "source": [
    "df.drop('ven__B',axis=1,inplace=True)"
   ]
  },
  {
   "cell_type": "code",
   "execution_count": null,
   "metadata": {},
   "outputs": [],
   "source": [
    "df.drop('job__B',axis=1,inplace=True)"
   ]
  },
  {
   "cell_type": "code",
   "execution_count": null,
   "metadata": {},
   "outputs": [],
   "source": [
    "df.drop('type__S',axis=1,inplace=True)"
   ]
  },
  {
   "cell_type": "code",
   "execution_count": null,
   "metadata": {},
   "outputs": [],
   "source": [
    "df.drop('loc__B',axis=1,inplace=True)\n",
    "df.drop('indust__B',axis=1,inplace=True)"
   ]
  },
  {
   "cell_type": "code",
   "execution_count": null,
   "metadata": {},
   "outputs": [],
   "source": [
    "df.info()"
   ]
  },
  {
   "cell_type": "code",
   "execution_count": null,
   "metadata": {},
   "outputs": [],
   "source": [
    "df.shape"
   ]
  },
  {
   "cell_type": "code",
   "execution_count": null,
   "metadata": {},
   "outputs": [],
   "source": [
    "df.skills.unique()"
   ]
  },
  {
   "cell_type": "code",
   "execution_count": null,
   "metadata": {},
   "outputs": [],
   "source": [
    "X=df.drop('date',axis=1)\n",
    "X=X.drop('client',axis=1)\n",
    "X=X.drop('closedpos',axis=1)\n",
    "X=X.drop('skills',axis=1)\n",
    "X=X.drop('obsat',axis=1)"
   ]
  },
  {
   "cell_type": "code",
   "execution_count": null,
   "metadata": {},
   "outputs": [],
   "source": [
    "df.resume.unique()"
   ]
  },
  {
   "cell_type": "code",
   "execution_count": null,
   "metadata": {},
   "outputs": [],
   "source": [
    "#X=X.drop('natloc',axis=1)\n",
    "X.meeting=le.fit_transform(X['meeting'])\n",
    "X.info()"
   ]
  },
  {
   "cell_type": "code",
   "execution_count": null,
   "metadata": {},
   "outputs": [],
   "source": [
    "y=df['obsat']"
   ]
  },
  {
   "cell_type": "code",
   "execution_count": null,
   "metadata": {},
   "outputs": [],
   "source": [
    "from sklearn import model_selection\n",
    "Xtrain,Xtest,ytrain,ytest=model_selection.train_test_split(X,y,test_size=0.25,random_state=42)"
   ]
  },
  {
   "cell_type": "code",
   "execution_count": null,
   "metadata": {},
   "outputs": [],
   "source": [
    "from sklearn import linear_model\n",
    "model=linear_model.LogisticRegression()\n",
    "model.fit(Xtrain,ytrain)\n",
    "pred_train=model.predict(Xtrain)\n",
    "pred_test=model.predict(Xtest)"
   ]
  },
  {
   "cell_type": "code",
   "execution_count": null,
   "metadata": {},
   "outputs": [],
   "source": [
    "\n"
   ]
  },
  {
   "cell_type": "code",
   "execution_count": null,
   "metadata": {},
   "outputs": [],
   "source": [
    "import sklearn\n",
    "print(sklearn.metrics.classification_report(ytest,pred_test))"
   ]
  },
  {
   "cell_type": "code",
   "execution_count": null,
   "metadata": {},
   "outputs": [],
   "source": [
    "X=X.drop('expat',axis=1)"
   ]
  },
  {
   "cell_type": "code",
   "execution_count": null,
   "metadata": {},
   "outputs": [],
   "source": [
    "from sklearn import model_selection\n",
    "Xtrain,Xtest,ytrain,ytest=model_selection.train_test_split(X,y,test_size=0.25,random_state=42)\n",
    "from sklearn import linear_model\n",
    "model=linear_model.LogisticRegression()\n",
    "model.fit(Xtrain,ytrain)\n",
    "pred_train=model.predict(Xtrain)\n",
    "pred_test=model.predict(Xtest)\n",
    "import sklearn\n",
    "print(sklearn.metrics.classification_report(ytrain,pred_train))"
   ]
  },
  {
   "cell_type": "code",
   "execution_count": null,
   "metadata": {},
   "outputs": [],
   "source": [
    "print(sklearn.metrics.classification_report(ytest,pred_test))"
   ]
  },
  {
   "cell_type": "code",
   "execution_count": null,
   "metadata": {},
   "outputs": [],
   "source": [
    "df.obsat.unique()"
   ]
  },
  {
   "cell_type": "code",
   "execution_count": null,
   "metadata": {},
   "outputs": [],
   "source": [
    "df[df.obsat==0]"
   ]
  },
  {
   "cell_type": "code",
   "execution_count": null,
   "metadata": {},
   "outputs": [],
   "source": [
    "df.info()"
   ]
  },
  {
   "cell_type": "code",
   "execution_count": null,
   "metadata": {},
   "outputs": [],
   "source": [
    "df1=df.drop('skills',axis=1)\n",
    "df1=df1.drop('closedpos',axis=1)\n",
    "df1=df1.drop('natloc',axis=1)\n"
   ]
  },
  {
   "cell_type": "code",
   "execution_count": null,
   "metadata": {},
   "outputs": [],
   "source": [
    "(df1.loc__C==0).sum()"
   ]
  },
  {
   "cell_type": "code",
   "execution_count": null,
   "metadata": {},
   "outputs": [],
   "source": [
    "(df1[(df1.indust__B==0) & (df1.obsat==0)]).shape"
   ]
  },
  {
   "cell_type": "code",
   "execution_count": null,
   "metadata": {},
   "outputs": [],
   "source": [
    "(df1[(df1.indust__E==0) & (df1.obsat==0)]).shape\n"
   ]
  },
  {
   "cell_type": "code",
   "execution_count": null,
   "metadata": {},
   "outputs": [],
   "source": [
    "(df1[(df1.indust__I==0) & (df1.obsat==0)]).shape"
   ]
  },
  {
   "cell_type": "code",
   "execution_count": null,
   "metadata": {},
   "outputs": [],
   "source": [
    "(df1[(df1.indust__P==0) & (df1.obsat==0)]).shape"
   ]
  },
  {
   "cell_type": "code",
   "execution_count": null,
   "metadata": {},
   "outputs": [],
   "source": [
    "print (df1[(df1.gender==0) & (df1.marit==0) & (df1.obsat==1)].shape[0]/(df1.obsat==1).sum())"
   ]
  },
  {
   "cell_type": "code",
   "execution_count": null,
   "metadata": {},
   "outputs": [],
   "source": [
    "print (df1[(df1.gender==0) & (df1.marit==1) & (df1.obsat==1)].shape[0]/(df1.obsat==1).sum())"
   ]
  },
  {
   "cell_type": "code",
   "execution_count": null,
   "metadata": {},
   "outputs": [],
   "source": [
    "print (df1[(df1.gender==1) & (df1.marit==1) & (df1.obsat==1)].shape[0]/(df1.obsat==1).sum())"
   ]
  },
  {
   "cell_type": "code",
   "execution_count": null,
   "metadata": {},
   "outputs": [],
   "source": [
    "print (df1[(df1.gender==1) & (df1.marit==0) & (df1.obsat==1)].shape[0]/(df1.obsat==1).sum())"
   ]
  },
  {
   "cell_type": "code",
   "execution_count": null,
   "metadata": {},
   "outputs": [],
   "source": []
  }
 ],
 "metadata": {
  "kernelspec": {
   "display_name": "Python 3",
   "language": "python",
   "name": "python3"
  },
  "language_info": {
   "codemirror_mode": {
    "name": "ipython",
    "version": 3
   },
   "file_extension": ".py",
   "mimetype": "text/x-python",
   "name": "python",
   "nbconvert_exporter": "python",
   "pygments_lexer": "ipython3",
   "version": "3.7.0"
  }
 },
 "nbformat": 4,
 "nbformat_minor": 2
}
