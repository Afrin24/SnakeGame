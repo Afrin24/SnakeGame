{
 "cells": [
  {
   "cell_type": "code",
   "execution_count": 13,
   "metadata": {},
   "outputs": [],
   "source": [
    "import numpy as np\n",
    "import pandas as pd\n",
    "import matplotlib.pyplot as plt\n",
    "import seaborn as sns"
   ]
  },
  {
   "cell_type": "code",
   "execution_count": 14,
   "metadata": {},
   "outputs": [],
   "source": [
    "from sklearn import linear_model\n",
    "from sklearn import preprocessing\n",
    "from sklearn import model_selection\n",
    "from sklearn import tree\n",
    "from sklearn import ensemble\n",
    "from sklearn import utils"
   ]
  },
  {
   "cell_type": "code",
   "execution_count": 15,
   "metadata": {},
   "outputs": [],
   "source": [
    "df=pd.read_csv('D:/datasets/iris.csv')"
   ]
  },
  {
   "cell_type": "code",
   "execution_count": 4,
   "metadata": {},
   "outputs": [
    {
     "name": "stdout",
     "output_type": "stream",
     "text": [
      "<class 'pandas.core.frame.DataFrame'>\n",
      "RangeIndex: 150 entries, 0 to 149\n",
      "Data columns (total 5 columns):\n",
      "sepallength    150 non-null float64\n",
      "sepalwidth     150 non-null float64\n",
      "petallength    150 non-null float64\n",
      "petalwidth     150 non-null float64\n",
      "class          150 non-null object\n",
      "dtypes: float64(4), object(1)\n",
      "memory usage: 5.9+ KB\n"
     ]
    }
   ],
   "source": [
    "df.info()"
   ]
  },
  {
   "cell_type": "code",
   "execution_count": 5,
   "metadata": {},
   "outputs": [
    {
     "data": {
      "text/html": [
       "<div>\n",
       "<style scoped>\n",
       "    .dataframe tbody tr th:only-of-type {\n",
       "        vertical-align: middle;\n",
       "    }\n",
       "\n",
       "    .dataframe tbody tr th {\n",
       "        vertical-align: top;\n",
       "    }\n",
       "\n",
       "    .dataframe thead th {\n",
       "        text-align: right;\n",
       "    }\n",
       "</style>\n",
       "<table border=\"1\" class=\"dataframe\">\n",
       "  <thead>\n",
       "    <tr style=\"text-align: right;\">\n",
       "      <th></th>\n",
       "      <th>sepallength</th>\n",
       "      <th>sepalwidth</th>\n",
       "      <th>petallength</th>\n",
       "      <th>petalwidth</th>\n",
       "      <th>class</th>\n",
       "    </tr>\n",
       "  </thead>\n",
       "  <tbody>\n",
       "    <tr>\n",
       "      <th>0</th>\n",
       "      <td>5.1</td>\n",
       "      <td>3.5</td>\n",
       "      <td>1.4</td>\n",
       "      <td>0.2</td>\n",
       "      <td>Iris-setosa</td>\n",
       "    </tr>\n",
       "    <tr>\n",
       "      <th>1</th>\n",
       "      <td>4.9</td>\n",
       "      <td>3.0</td>\n",
       "      <td>1.4</td>\n",
       "      <td>0.2</td>\n",
       "      <td>Iris-setosa</td>\n",
       "    </tr>\n",
       "    <tr>\n",
       "      <th>2</th>\n",
       "      <td>4.7</td>\n",
       "      <td>3.2</td>\n",
       "      <td>1.3</td>\n",
       "      <td>0.2</td>\n",
       "      <td>Iris-setosa</td>\n",
       "    </tr>\n",
       "    <tr>\n",
       "      <th>3</th>\n",
       "      <td>4.6</td>\n",
       "      <td>3.1</td>\n",
       "      <td>1.5</td>\n",
       "      <td>0.2</td>\n",
       "      <td>Iris-setosa</td>\n",
       "    </tr>\n",
       "    <tr>\n",
       "      <th>4</th>\n",
       "      <td>5.0</td>\n",
       "      <td>3.6</td>\n",
       "      <td>1.4</td>\n",
       "      <td>0.2</td>\n",
       "      <td>Iris-setosa</td>\n",
       "    </tr>\n",
       "  </tbody>\n",
       "</table>\n",
       "</div>"
      ],
      "text/plain": [
       "   sepallength  sepalwidth  petallength  petalwidth        class\n",
       "0          5.1         3.5          1.4         0.2  Iris-setosa\n",
       "1          4.9         3.0          1.4         0.2  Iris-setosa\n",
       "2          4.7         3.2          1.3         0.2  Iris-setosa\n",
       "3          4.6         3.1          1.5         0.2  Iris-setosa\n",
       "4          5.0         3.6          1.4         0.2  Iris-setosa"
      ]
     },
     "execution_count": 5,
     "metadata": {},
     "output_type": "execute_result"
    }
   ],
   "source": [
    "df[:5]"
   ]
  },
  {
   "cell_type": "code",
   "execution_count": 16,
   "metadata": {},
   "outputs": [],
   "source": [
    "#all X are continuous\n",
    "#GaussianNB\n",
    "from sklearn import naive_bayes\n",
    "df=utils.shuffle(df)"
   ]
  },
  {
   "cell_type": "code",
   "execution_count": 18,
   "metadata": {},
   "outputs": [],
   "source": [
    "#df[\"type\"]=(df[\"class\"]==\"Iris-setosa\").astype(np.int)\n",
    "df.drop(\"class\",axis=1,inplace=True)"
   ]
  },
  {
   "cell_type": "code",
   "execution_count": 19,
   "metadata": {},
   "outputs": [
    {
     "name": "stdout",
     "output_type": "stream",
     "text": [
      "     sepallength  sepalwidth  petallength  petalwidth  type\n",
      "66           5.6         3.0          4.5         1.5     2\n",
      "32           5.2         4.1          1.5         0.1     1\n",
      "146          6.3         2.5          5.0         1.9     3\n",
      "128          6.4         2.8          5.6         2.1     3\n",
      "112          6.8         3.0          5.5         2.1     3\n",
      "     sepallength  sepalwidth  petallength  petalwidth\n",
      "66           5.6         3.0          4.5         1.5\n",
      "32           5.2         4.1          1.5         0.1\n",
      "146          6.3         2.5          5.0         1.9\n",
      "128          6.4         2.8          5.6         2.1\n",
      "112          6.8         3.0          5.5         2.1\n"
     ]
    }
   ],
   "source": [
    "X=df.drop(\"type\",axis=1)\n",
    "print(df.head())\n",
    "print(X.head())"
   ]
  },
  {
   "cell_type": "code",
   "execution_count": 20,
   "metadata": {},
   "outputs": [
    {
     "data": {
      "text/plain": [
       "GaussianNB(priors=None)"
      ]
     },
     "execution_count": 20,
     "metadata": {},
     "output_type": "execute_result"
    }
   ],
   "source": [
    "y=df[\"type\"]\n",
    "Xtrain,Xtest,ytrain,ytest=model_selection.train_test_split(X,y,test_size=0.15,random_state=42)\n",
    "model=()\n",
    "model.fit(Xtrain,ytrain)"
   ]
  },
  {
   "cell_type": "code",
   "execution_count": 21,
   "metadata": {},
   "outputs": [
    {
     "name": "stdout",
     "output_type": "stream",
     "text": [
      "Confusion Matrix : [[8 0 0]\n",
      " [0 7 0]\n",
      " [0 1 7]]\n"
     ]
    }
   ],
   "source": [
    "from sklearn import metrics\n",
    "prediction=model.predict(Xtest)\n",
    "print(\"Confusion Matrix :\",metrics.confusion_matrix(ytest,prediction))"
   ]
  },
  {
   "cell_type": "code",
   "execution_count": 22,
   "metadata": {},
   "outputs": [
    {
     "name": "stdout",
     "output_type": "stream",
     "text": [
      "Confusion Matrix : [[42  0  0]\n",
      " [ 0 40  3]\n",
      " [ 0  3 39]]\n"
     ]
    }
   ],
   "source": [
    "print(\"Confusion Matrix :\",metrics.confusion_matrix(ytrain,model.predict(Xtrain)))"
   ]
  },
  {
   "cell_type": "code",
   "execution_count": 23,
   "metadata": {},
   "outputs": [],
   "source": [
    "probs=model.predict_proba(Xtest)"
   ]
  },
  {
   "cell_type": "code",
   "execution_count": 24,
   "metadata": {},
   "outputs": [
    {
     "data": {
      "text/plain": [
       "array([[1.00000000e+000, 6.18703138e-017, 4.03069777e-025],\n",
       "       [1.00000000e+000, 1.38039958e-015, 7.36558837e-024],\n",
       "       [2.08164895e-065, 9.99952713e-001, 4.72867118e-005],\n",
       "       [2.85343449e-106, 6.39938834e-001, 3.60061166e-001],\n",
       "       [1.00000000e+000, 4.81772944e-015, 5.47083105e-023],\n",
       "       [8.62192754e-121, 7.03494869e-001, 2.96505131e-001],\n",
       "       [1.28340780e-054, 9.99990006e-001, 9.99353429e-006],\n",
       "       [1.00000000e+000, 2.49639444e-017, 6.60910101e-025],\n",
       "       [7.76673049e-087, 9.85084017e-001, 1.49159833e-002],\n",
       "       [6.11336255e-205, 2.10762763e-006, 9.99997892e-001],\n",
       "       [1.00000000e+000, 3.27942068e-018, 1.26797165e-025],\n",
       "       [1.00000000e+000, 2.11182236e-017, 1.95118849e-025],\n",
       "       [1.00000000e+000, 6.18703138e-017, 4.03069777e-025],\n",
       "       [5.48524214e-205, 3.08763852e-008, 9.99999969e-001],\n",
       "       [2.52781130e-173, 9.09863513e-007, 9.99999090e-001],\n",
       "       [8.72270857e-104, 7.85393674e-001, 2.14606326e-001],\n",
       "       [5.84044288e-068, 9.99708815e-001, 2.91184725e-004],\n",
       "       [3.54885323e-158, 2.55618845e-003, 9.97443812e-001],\n",
       "       [1.17137712e-149, 5.59811953e-004, 9.99440188e-001],\n",
       "       [3.74811521e-189, 2.01719783e-006, 9.99997983e-001],\n",
       "       [4.37048519e-072, 9.99597284e-001, 4.02715981e-004],\n",
       "       [1.00000000e+000, 1.01463775e-016, 1.16194973e-024],\n",
       "       [1.28208875e-264, 9.91548727e-012, 1.00000000e+000]])"
      ]
     },
     "execution_count": 24,
     "metadata": {},
     "output_type": "execute_result"
    }
   ],
   "source": [
    "probs"
   ]
  },
  {
   "cell_type": "code",
   "execution_count": 17,
   "metadata": {},
   "outputs": [],
   "source": [
    "df[\"type\"]=df[\"class\"].replace({\"Iris-setosa\":1,\"Iris-versicolor\":2,\"Iris-virginica\":3})"
   ]
  },
  {
   "cell_type": "code",
   "execution_count": null,
   "metadata": {},
   "outputs": [],
   "source": []
  }
 ],
 "metadata": {
  "kernelspec": {
   "display_name": "Python 3",
   "language": "python",
   "name": "python3"
  },
  "language_info": {
   "codemirror_mode": {
    "name": "ipython",
    "version": 3
   },
   "file_extension": ".py",
   "mimetype": "text/x-python",
   "name": "python",
   "nbconvert_exporter": "python",
   "pygments_lexer": "ipython3",
   "version": "3.7.0"
  }
 },
 "nbformat": 4,
 "nbformat_minor": 2
}
