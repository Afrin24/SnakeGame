{
 "cells": [
  {
   "cell_type": "code",
   "execution_count": 1,
   "metadata": {},
   "outputs": [],
   "source": [
    "import numpy as np\n",
    "import pandas as pd\n",
    "import seaborn as sns\n",
    "import matplotlib.pyplot as plt\n",
    "import datetime\n",
    "df=pd.read_csv('C:/Users/Dell/Desktop/Interview.csv')"
   ]
  },
  {
   "cell_type": "code",
   "execution_count": 2,
   "metadata": {},
   "outputs": [],
   "source": [
    "import warnings\n",
    "warnings.filterwarnings('ignore')\n",
    "from sklearn import metrics\n",
    "from sklearn.metrics import r2_score\n",
    "from sklearn.preprocessing import LabelEncoder, OneHotEncoder\n",
    "from sklearn.preprocessing import StandardScaler\n",
    "from sklearn.linear_model import LinearRegression\n",
    "from sklearn.linear_model import LogisticRegression\n",
    "from sklearn.preprocessing import PolynomialFeatures\n",
    "from sklearn.svm import SVR\n",
    "from sklearn.tree import DecisionTreeRegressor\n",
    "from sklearn.ensemble import RandomForestRegressor\n",
    "from sklearn.model_selection import train_test_split \n",
    "from sklearn.metrics import confusion_matrix\n",
    "from sklearn.metrics import classification_report\n",
    "from sklearn.metrics import accuracy_score\n",
    "from sklearn import feature_selection\n",
    "from sklearn import tree\n",
    "from sklearn import utils\n",
    "from sklearn import naive_bayes\n",
    "from sklearn import feature_selection\n",
    "from sklearn import ensemble\n",
    "from sklearn import linear_model\n",
    "from sklearn import neighbors\n",
    "from sklearn import model_selection\n",
    "from sklearn.model_selection import GridSearchCV\n",
    "from sklearn.model_selection import KFold\n",
    "import re\n"
   ]
  },
  {
   "cell_type": "code",
   "execution_count": 3,
   "metadata": {},
   "outputs": [
    {
     "name": "stdout",
     "output_type": "stream",
     "text": [
      "<class 'pandas.core.frame.DataFrame'>\n",
      "RangeIndex: 1234 entries, 0 to 1233\n",
      "Data columns (total 28 columns):\n",
      "Date of Interview                                                                                     1233 non-null object\n",
      "Client name                                                                                           1234 non-null object\n",
      "Industry                                                                                              1233 non-null object\n",
      "Location                                                                                              1233 non-null object\n",
      "Position to be closed                                                                                 1233 non-null object\n",
      "Nature of Skillset                                                                                    1233 non-null object\n",
      "Interview Type                                                                                        1233 non-null object\n",
      "Name(Cand ID)                                                                                         1233 non-null object\n",
      "Gender                                                                                                1233 non-null object\n",
      "Candidate Current Location                                                                            1233 non-null object\n",
      "Candidate Job Location                                                                                1233 non-null object\n",
      "Interview Venue                                                                                       1233 non-null object\n",
      "Candidate Native location                                                                             1233 non-null object\n",
      "Have you obtained the necessary permission to start at the required time                              1029 non-null object\n",
      "Hope there will be no unscheduled meetings                                                            986 non-null object\n",
      "Can I Call you three hours before the interview and follow up on your attendance for the interview    986 non-null object\n",
      "Can I have an alternative number/ desk number. I assure you that I will not trouble you too much      986 non-null object\n",
      "Have you taken a printout of your updated resume. Have you read the JD and understood the same        985 non-null object\n",
      "Are you clear with the venue details and the landmark.                                                985 non-null object\n",
      "Has the call letter been shared                                                                       988 non-null object\n",
      "Expected Attendance                                                                                   1228 non-null object\n",
      "Observed Attendance                                                                                   1233 non-null object\n",
      "Marital Status                                                                                        1233 non-null object\n",
      "Unnamed: 23                                                                                           0 non-null float64\n",
      "Unnamed: 24                                                                                           0 non-null float64\n",
      "Unnamed: 25                                                                                           0 non-null float64\n",
      "Unnamed: 26                                                                                           0 non-null float64\n",
      "Unnamed: 27                                                                                           0 non-null float64\n",
      "dtypes: float64(5), object(23)\n",
      "memory usage: 270.0+ KB\n"
     ]
    }
   ],
   "source": [
    "df.info()"
   ]
  },
  {
   "cell_type": "markdown",
   "metadata": {},
   "source": [
    "#### Observations:\n",
    "#### Looking into the data set , we can say that we have 1234 records with 28 columns/features\n",
    "#### Firstly, we can clearly eleminate the last 5 columns , which have only null values\n",
    "#### Secondly, we need to shorten and modify the column in order to make the data more interpretable\n",
    "#### We need to clean the data before modelling"
   ]
  },
  {
   "cell_type": "code",
   "execution_count": 4,
   "metadata": {},
   "outputs": [],
   "source": [
    "df.drop([\"Unnamed: 23\",'Unnamed: 24','Unnamed: 25','Unnamed: 26','Unnamed: 27'],axis=1,inplace=True)\n",
    "df.columns=['date','client','industry','location','closedpos','skills','type','id','gender','currloc','jobloc','venue','natloc','permit','meeting','call','no.','resume','clear','letter','expat','obsat','marit']"
   ]
  },
  {
   "cell_type": "markdown",
   "metadata": {},
   "source": [
    "# Date column\n"
   ]
  },
  {
   "cell_type": "markdown",
   "metadata": {},
   "source": [
    "#### Converting the string format to date format \n",
    "#### Extracting year, month, day and day of week from the date column and appending the columns to the dataset"
   ]
  },
  {
   "cell_type": "code",
   "execution_count": 5,
   "metadata": {},
   "outputs": [],
   "source": [
    "df.drop(df.index[df[\"date\"].isnull()],axis=0,inplace=True)\n",
    "df.date=df.date.str.replace(\" \",\"\")\n",
    "df.date=df.date.str.replace(r'&\\d[\\d].\\d\\d\\w\\w','')\n",
    "df.date=df.date.str.replace(r'&\\d.\\d\\d\\w\\w','')\n",
    "df.date=df.date.str.replace('/','.')\n",
    "df.date=df.date.str.replace('-Apr-','.04.')\n",
    "df.date=df.date.str.replace('–Apr-','.04.')\n",
    "df.date=df.date.str.replace('Apr','.04.')\n",
    "df.date=df.date.str.replace(r'\\W16','.2016')\n",
    "df.date=df.date.str.replace(r'\\W15','.2015')\n",
    "df.date=df.date.str.replace('-','.')\n",
    "from datetime import datetime\n",
    "df['date']=pd.to_datetime(df['date'],format='%d.%m.%Y')\n",
    "df[\"date\"]=df[\"date\"].dt.date\n"
   ]
  },
  {
   "cell_type": "code",
   "execution_count": 6,
   "metadata": {},
   "outputs": [
    {
     "data": {
      "text/plain": [
       "array([datetime.date(2015, 2, 13), datetime.date(2015, 6, 19),\n",
       "       datetime.date(2015, 6, 23), datetime.date(2015, 6, 29),\n",
       "       datetime.date(2015, 6, 25), datetime.date(2016, 5, 25),\n",
       "       datetime.date(2016, 12, 4), datetime.date(2016, 4, 13),\n",
       "       datetime.date(2016, 2, 27), datetime.date(2016, 5, 7),\n",
       "       datetime.date(2016, 5, 5), datetime.date(2016, 5, 4),\n",
       "       datetime.date(2016, 4, 21), datetime.date(2016, 4, 22),\n",
       "       datetime.date(2016, 4, 23), datetime.date(2016, 4, 15),\n",
       "       datetime.date(2016, 4, 19), datetime.date(2016, 4, 20),\n",
       "       datetime.date(2016, 4, 25), datetime.date(2016, 4, 18),\n",
       "       datetime.date(2016, 5, 11), datetime.date(2016, 5, 10),\n",
       "       datetime.date(2016, 4, 12), datetime.date(2017, 4, 12),\n",
       "       datetime.date(2018, 4, 12), datetime.date(2019, 4, 12),\n",
       "       datetime.date(2020, 4, 12), datetime.date(2021, 4, 12),\n",
       "       datetime.date(2022, 4, 12), datetime.date(2023, 4, 12),\n",
       "       datetime.date(2016, 5, 8), datetime.date(2016, 3, 19),\n",
       "       datetime.date(2016, 5, 24), datetime.date(2016, 11, 5),\n",
       "       datetime.date(2016, 5, 26), datetime.date(2016, 8, 28),\n",
       "       datetime.date(2016, 6, 13), datetime.date(2016, 9, 2),\n",
       "       datetime.date(2015, 12, 2), datetime.date(2016, 2, 23),\n",
       "       datetime.date(2016, 3, 22), datetime.date(2016, 2, 26),\n",
       "       datetime.date(2016, 2, 6), datetime.date(2015, 4, 21),\n",
       "       datetime.date(2016, 1, 22), datetime.date(2016, 6, 3),\n",
       "       datetime.date(2016, 1, 9), datetime.date(2015, 4, 3),\n",
       "       datetime.date(2015, 3, 13), datetime.date(2015, 3, 17),\n",
       "       datetime.date(2014, 3, 18), datetime.date(2015, 4, 4),\n",
       "       datetime.date(2015, 4, 16), datetime.date(2015, 4, 17),\n",
       "       datetime.date(2015, 4, 9), datetime.date(2015, 2, 5),\n",
       "       datetime.date(2016, 5, 30), datetime.date(2016, 6, 7),\n",
       "       datetime.date(2016, 8, 20), datetime.date(2016, 1, 14),\n",
       "       datetime.date(2016, 1, 30), datetime.date(2016, 5, 6)],\n",
       "      dtype=object)"
      ]
     },
     "execution_count": 6,
     "metadata": {},
     "output_type": "execute_result"
    }
   ],
   "source": [
    "df[\"date\"].unique()"
   ]
  },
  {
   "cell_type": "code",
   "execution_count": 7,
   "metadata": {},
   "outputs": [],
   "source": [
    "df2=pd.DataFrame({\"year\":[],\"month\":[],\"day\":[]})\n",
    "df=pd.concat([df,df2],sort=False)\n",
    "df2=pd.DataFrame({\"dayofyear\":[]})\n",
    "df=pd.concat([df,df2],sort=False)\n",
    "df2=pd.DataFrame({\"dayofweek\":[]})\n",
    "df=pd.concat([df,df2],sort=False)\n",
    "for i,s in df.iterrows():\n",
    "    k=df[\"date\"][i].timetuple()\n",
    "    df[\"year\"][i]=k.tm_year\n",
    "    df[\"month\"][i]=k.tm_mon\n",
    "    df[\"day\"][i]=k.tm_mday\n",
    "    df[\"dayofweek\"][i]=datetime.isoweekday(df[\"date\"][i])\n",
    "    df.dayofyear[i]=k.tm_yday"
   ]
  },
  {
   "cell_type": "code",
   "execution_count": 8,
   "metadata": {},
   "outputs": [
    {
     "name": "stdout",
     "output_type": "stream",
     "text": [
      "<class 'pandas.core.frame.DataFrame'>\n",
      "Int64Index: 1233 entries, 0 to 1232\n",
      "Data columns (total 28 columns):\n",
      "date         1233 non-null object\n",
      "client       1233 non-null object\n",
      "industry     1233 non-null object\n",
      "location     1233 non-null object\n",
      "closedpos    1233 non-null object\n",
      "skills       1233 non-null object\n",
      "type         1233 non-null object\n",
      "id           1233 non-null object\n",
      "gender       1233 non-null object\n",
      "currloc      1233 non-null object\n",
      "jobloc       1233 non-null object\n",
      "venue        1233 non-null object\n",
      "natloc       1233 non-null object\n",
      "permit       1029 non-null object\n",
      "meeting      986 non-null object\n",
      "call         986 non-null object\n",
      "no.          986 non-null object\n",
      "resume       985 non-null object\n",
      "clear        985 non-null object\n",
      "letter       988 non-null object\n",
      "expat        1228 non-null object\n",
      "obsat        1233 non-null object\n",
      "marit        1233 non-null object\n",
      "year         1233 non-null float64\n",
      "month        1233 non-null float64\n",
      "day          1233 non-null float64\n",
      "dayofyear    1233 non-null float64\n",
      "dayofweek    1233 non-null float64\n",
      "dtypes: float64(5), object(23)\n",
      "memory usage: 319.4+ KB\n"
     ]
    }
   ],
   "source": [
    "df.info()"
   ]
  },
  {
   "cell_type": "markdown",
   "metadata": {},
   "source": [
    "# Observed attendance column"
   ]
  },
  {
   "cell_type": "code",
   "execution_count": 9,
   "metadata": {},
   "outputs": [],
   "source": [
    "df.obsat.replace({'No':'N','Yes':'Y','yes':'Y','no':'N','yes ':'Y','No ':'N','NO':'N','no ':'N'},inplace=True)\n",
    "from sklearn import preprocessing\n",
    "le=preprocessing.LabelEncoder()\n",
    "df.loc[:,'obsat']=le.fit_transform(df.loc[:,'obsat'])"
   ]
  },
  {
   "cell_type": "code",
   "execution_count": 10,
   "metadata": {},
   "outputs": [
    {
     "name": "stdout",
     "output_type": "stream",
     "text": [
      "2.0 194 117\n",
      "6.0 80 41\n",
      "5.0 112 40\n",
      "12.0 70 35\n",
      "4.0 138 108\n",
      "3.0 37 26\n",
      "11.0 13 12\n",
      "8.0 29 16\n",
      "9.0 27 16\n",
      "1.0 83 39\n"
     ]
    }
   ],
   "source": [
    "for i in df.month.unique():\n",
    "    print(i,(df[(df['month']==i) & (df.obsat==1)].shape[0]),(df[(df['month']==i) & (df.obsat==0)].shape[0]))    "
   ]
  },
  {
   "cell_type": "code",
   "execution_count": 11,
   "metadata": {},
   "outputs": [
    {
     "name": "stdout",
     "output_type": "stream",
     "text": [
      "5.0 113 102\n",
      "2.0 65 29\n",
      "1.0 25 17\n",
      "4.0 105 52\n",
      "3.0 124 68\n",
      "7.0 75 35\n",
      "6.0 276 147\n"
     ]
    }
   ],
   "source": [
    "for i in df.dayofweek.unique():\n",
    "    print(i,(df[(df['dayofweek']==i) & (df.obsat==1)].shape[0]),(df[(df['dayofweek']==i) & (df.obsat==0)].shape[0]))    "
   ]
  },
  {
   "cell_type": "code",
   "execution_count": 12,
   "metadata": {},
   "outputs": [
    {
     "name": "stdout",
     "output_type": "stream",
     "text": [
      "2015.0\n",
      "110\n",
      "98\n",
      "2016.0\n",
      "664\n",
      "350\n",
      "2017.0\n",
      "1\n",
      "0\n",
      "2018.0\n",
      "0\n",
      "1\n",
      "2019.0\n",
      "1\n",
      "0\n",
      "2020.0\n",
      "1\n",
      "0\n",
      "2021.0\n",
      "0\n",
      "1\n",
      "2022.0\n",
      "1\n",
      "0\n",
      "2023.0\n",
      "1\n",
      "0\n",
      "2014.0\n",
      "4\n",
      "0\n"
     ]
    }
   ],
   "source": [
    "for i in df.year.unique():\n",
    "    print (i)\n",
    "    print(df[(df['year']==i) & (df.obsat==1)].shape[0])\n",
    "    print(df[(df['year']==i) & (df.obsat==0)].shape[0])\n",
    "    \n"
   ]
  },
  {
   "cell_type": "markdown",
   "metadata": {},
   "source": [
    "# native location column\n"
   ]
  },
  {
   "cell_type": "code",
   "execution_count": 13,
   "metadata": {},
   "outputs": [
    {
     "data": {
      "text/plain": [
       "array(['Hosur', 'Trichy', 'Chennai', 'Gurgaon', 'Noida', 'Delhi /NCR',\n",
       "       'Cochin', 'Trivandrum', 'Bangalore', 'Coimbatore', 'Salem',\n",
       "       'Tanjore', 'Hyderabad', 'Mumbai', 'Pune', 'Kolkata', 'Allahabad',\n",
       "       'Panjim', 'Cuttack', 'Visakapatinam', 'Belgaum', 'Patna',\n",
       "       'Chitoor', 'Anantapur', 'Warangal', 'Ahmedabad', 'Kurnool',\n",
       "       'Vijayawada', 'Vellore', 'Pondicherry', 'Nagercoil', 'Agra',\n",
       "       'Bhubaneshwar', 'Ghaziabad', 'Baddi', 'Tuticorin', 'Tirupati',\n",
       "       'Faizabad', 'Ambur', 'Chandigarh', 'Mysore', 'Hissar', 'Delhi',\n",
       "       'Kanpur', 'Lucknow', '- Cochin- '], dtype=object)"
      ]
     },
     "execution_count": 13,
     "metadata": {},
     "output_type": "execute_result"
    }
   ],
   "source": [
    "df[\"natloc\"].unique()"
   ]
  },
  {
   "cell_type": "code",
   "execution_count": 14,
   "metadata": {},
   "outputs": [],
   "source": [
    "df['natloc'].replace({'Delhi /NCR':'Delhi','- Cochin- ':'Cochin'},inplace=True)"
   ]
  },
  {
   "cell_type": "code",
   "execution_count": 15,
   "metadata": {},
   "outputs": [
    {
     "data": {
      "text/plain": [
       "array(['Hosur', 'Trichy', 'Chennai', 'Gurgaon', 'Noida', 'Delhi',\n",
       "       'Cochin', 'Trivandrum', 'Bangalore', 'Coimbatore', 'Salem',\n",
       "       'Tanjore', 'Hyderabad', 'Mumbai', 'Pune', 'Kolkata', 'Allahabad',\n",
       "       'Panjim', 'Cuttack', 'Visakapatinam', 'Belgaum', 'Patna',\n",
       "       'Chitoor', 'Anantapur', 'Warangal', 'Ahmedabad', 'Kurnool',\n",
       "       'Vijayawada', 'Vellore', 'Pondicherry', 'Nagercoil', 'Agra',\n",
       "       'Bhubaneshwar', 'Ghaziabad', 'Baddi', 'Tuticorin', 'Tirupati',\n",
       "       'Faizabad', 'Ambur', 'Chandigarh', 'Mysore', 'Hissar', 'Kanpur',\n",
       "       'Lucknow'], dtype=object)"
      ]
     },
     "execution_count": 15,
     "metadata": {},
     "output_type": "execute_result"
    }
   ],
   "source": [
    "df['natloc'].unique()"
   ]
  },
  {
   "cell_type": "markdown",
   "metadata": {},
   "source": [
    "# client"
   ]
  },
  {
   "cell_type": "code",
   "execution_count": 16,
   "metadata": {},
   "outputs": [],
   "source": [
    "df['client'].replace({'Hospira':'H','Aon Hewitt':'A','UST':'U','Standard Chartered Bank':'S','ANZ':'A1','Pfizer':'P','Standard Chartered Bank Chennai':'S','Aon hewitt Gurgaon':'A','Astrazeneca':'As','Flextronics':'F','Prodapt':'P1','Williams Lea':'W','Barclays':'B','Hewitt':'A','Woori Bank':'Wb'},inplace=True)"
   ]
  },
  {
   "cell_type": "markdown",
   "metadata": {},
   "source": [
    "# Meeting "
   ]
  },
  {
   "cell_type": "code",
   "execution_count": 17,
   "metadata": {},
   "outputs": [
    {
     "name": "stdout",
     "output_type": "stream",
     "text": [
      "Yes 670 279\n",
      "Na 3 17\n",
      "No 0 6\n",
      "nan 0 0\n",
      "yes 4 1\n",
      "Not Sure 0 1\n",
      "cant Say 0 1\n",
      "Not sure 0 4\n"
     ]
    }
   ],
   "source": [
    "for i in df[\"meeting\"].unique():\n",
    "            print(i,(df[(df['meeting']==i) & (df.obsat==1)].shape[0]),(df[(df['meeting']==i) & (df.obsat==0)].shape[0]),sep=\" \")    \n",
    "\n"
   ]
  },
  {
   "cell_type": "code",
   "execution_count": 18,
   "metadata": {},
   "outputs": [
    {
     "data": {
      "text/plain": [
       "247"
      ]
     },
     "execution_count": 18,
     "metadata": {},
     "output_type": "execute_result"
    }
   ],
   "source": [
    "df.meeting.isnull().sum()\n"
   ]
  },
  {
   "cell_type": "code",
   "execution_count": 19,
   "metadata": {},
   "outputs": [],
   "source": [
    "df.meeting.replace({'Yes':'Y','Na':'N','No':'N','yes':'Y','Not sure':'N','Not Sure':'N','cant Say':'N'},inplace=True)\n"
   ]
  },
  {
   "cell_type": "code",
   "execution_count": 20,
   "metadata": {},
   "outputs": [],
   "source": [
    "df.drop(df.index[df.meeting.isnull()],axis=0,inplace=True)"
   ]
  },
  {
   "cell_type": "code",
   "execution_count": 21,
   "metadata": {},
   "outputs": [
    {
     "name": "stdout",
     "output_type": "stream",
     "text": [
      "Y 674 280\n",
      "N 3 29\n"
     ]
    }
   ],
   "source": [
    "for i in df[\"meeting\"].unique():\n",
    "            print(i,(df[(df['meeting']==i) & (df.obsat==1)].shape[0]),(df[(df['meeting']==i) & (df.obsat==0)].shape[0]),sep=\" \")    "
   ]
  },
  {
   "cell_type": "markdown",
   "metadata": {},
   "source": [
    "# Industry"
   ]
  },
  {
   "cell_type": "code",
   "execution_count": 22,
   "metadata": {},
   "outputs": [],
   "source": [
    "df['industry'].replace({'Pharmaceuticals':'P','IT Services':'I','IT Products and Services':'I','Electronics':'E','Telecom':'E','IT':'I','BFSI':'B'},inplace=True)"
   ]
  },
  {
   "cell_type": "markdown",
   "metadata": {},
   "source": [
    "# Permit"
   ]
  },
  {
   "cell_type": "code",
   "execution_count": 23,
   "metadata": {},
   "outputs": [
    {
     "name": "stdout",
     "output_type": "stream",
     "text": [
      "Yes 665 252\n",
      "nan 0 0\n",
      "No 3 33\n",
      "Not yet 3 16\n",
      "Yet to confirm 0 4\n",
      "yes 3 1\n",
      "Na 3 2\n"
     ]
    }
   ],
   "source": [
    "for i in df[\"permit\"].unique():\n",
    "            print(i,(df[(df['permit']==i) & (df.obsat==1)].shape[0]),(df[(df['permit']==i) & (df.obsat==0)].shape[0]),sep=\" \")    "
   ]
  },
  {
   "cell_type": "code",
   "execution_count": 24,
   "metadata": {},
   "outputs": [],
   "source": [
    "df.drop(df.index[df.permit.isnull()],axis=0,inplace=True)\n",
    "df.permit.replace({'Yes':'Y','No':'N','Not yet':'N','Yet to confirm':'N','yes':'Y','Na':'N'},inplace=True)"
   ]
  },
  {
   "cell_type": "code",
   "execution_count": 25,
   "metadata": {},
   "outputs": [
    {
     "name": "stdout",
     "output_type": "stream",
     "text": [
      "Y 668 253\n",
      "N 9 55\n"
     ]
    }
   ],
   "source": [
    "for i in df[\"permit\"].unique():\n",
    "            print(i,(df[(df['permit']==i) & (df.obsat==1)].shape[0]),(df[(df['permit']==i) & (df.obsat==0)].shape[0]),sep=\" \")    "
   ]
  },
  {
   "cell_type": "markdown",
   "metadata": {},
   "source": [
    "# Resume"
   ]
  },
  {
   "cell_type": "code",
   "execution_count": 26,
   "metadata": {},
   "outputs": [
    {
     "name": "stdout",
     "output_type": "stream",
     "text": [
      "Yes 668 272\n",
      "No 2 14\n",
      "No- will take it soon 0 1\n",
      "nan 0 0\n",
      "Not yet 1 1\n",
      "yes 2 0\n",
      "Na 3 16\n",
      "Not Yet 0 4\n"
     ]
    }
   ],
   "source": [
    "for i in df[\"resume\"].unique():\n",
    "            print(i,(df[(df['resume']==i) & (df.obsat==1)].shape[0]),(df[(df['resume']==i) & (df.obsat==0)].shape[0]),sep=\" \")    "
   ]
  },
  {
   "cell_type": "code",
   "execution_count": 27,
   "metadata": {},
   "outputs": [
    {
     "data": {
      "text/plain": [
       "1"
      ]
     },
     "execution_count": 27,
     "metadata": {},
     "output_type": "execute_result"
    }
   ],
   "source": [
    "df.resume.isnull().sum()\n"
   ]
  },
  {
   "cell_type": "code",
   "execution_count": 28,
   "metadata": {},
   "outputs": [],
   "source": [
    "df['resume'].replace({'Yes':'Y', 'No':'N', 'No- will take it soon':'N', 'Not yet':'N', 'yes':'Y', 'Na':'N',\n",
    "       'Not Yet':'N'},inplace=True)"
   ]
  },
  {
   "cell_type": "code",
   "execution_count": 29,
   "metadata": {},
   "outputs": [],
   "source": [
    "df.drop(df.index[df.resume.isnull()],axis=0,inplace=True)\n"
   ]
  },
  {
   "cell_type": "code",
   "execution_count": 30,
   "metadata": {},
   "outputs": [
    {
     "name": "stdout",
     "output_type": "stream",
     "text": [
      "Y 670 272\n",
      "N 6 36\n"
     ]
    }
   ],
   "source": [
    "for i in df[\"resume\"].unique():\n",
    "            print(i,(df[(df['resume']==i) & (df.obsat==1)].shape[0]),(df[(df['resume']==i) & (df.obsat==0)].shape[0]),sep=\" \")    "
   ]
  },
  {
   "cell_type": "markdown",
   "metadata": {},
   "source": [
    "# Expat"
   ]
  },
  {
   "cell_type": "code",
   "execution_count": 31,
   "metadata": {},
   "outputs": [
    {
     "name": "stdout",
     "output_type": "stream",
     "text": [
      "Yes 651 231\n",
      "Uncertain 21 23\n",
      "No 1 54\n",
      "yes 1 0\n",
      "11:00 AM 1 0\n",
      "10.30 Am 1 0\n"
     ]
    }
   ],
   "source": [
    "for i in df[\"expat\"].unique():\n",
    "            print(i,(df[(df['expat']==i) & (df.obsat==1)].shape[0]),(df[(df['expat']==i) & (df.obsat==0)].shape[0]),sep=\" \")    "
   ]
  },
  {
   "cell_type": "code",
   "execution_count": 32,
   "metadata": {},
   "outputs": [],
   "source": [
    "df['expat'].replace({'Yes':'Y','No':'N','yes':'Y','11:00 AM':'Y','10.30 Am':'Y'},inplace=True)\n"
   ]
  },
  {
   "cell_type": "code",
   "execution_count": 33,
   "metadata": {},
   "outputs": [],
   "source": [
    "for i,series in df.iterrows():\n",
    "        if((series.expat=='Uncertain') & (series.obsat==1)):\n",
    "            df.loc[i,'expat']='Y'\n",
    "        elif ((series.expat=='Uncertain') &( series.obsat==0)):\n",
    "            df.loc[i,'expat']='N'"
   ]
  },
  {
   "cell_type": "code",
   "execution_count": 34,
   "metadata": {},
   "outputs": [
    {
     "name": "stdout",
     "output_type": "stream",
     "text": [
      "Y 675 231\n",
      "N 1 77\n"
     ]
    }
   ],
   "source": [
    "for i in df[\"expat\"].unique():\n",
    "            print(i,(df[(df['expat']==i) & (df.obsat==1)].shape[0]),(df[(df['expat']==i) & (df.obsat==0)].shape[0]),sep=\" \")    "
   ]
  },
  {
   "cell_type": "markdown",
   "metadata": {},
   "source": [
    "# letter"
   ]
  },
  {
   "cell_type": "code",
   "execution_count": 35,
   "metadata": {},
   "outputs": [
    {
     "name": "stdout",
     "output_type": "stream",
     "text": [
      "Yes 666 266\n",
      "Havent Checked 1 0\n",
      "No 2 13\n",
      "Need To Check 0 3\n",
      "Not sure 1 0\n",
      "Not Sure 0 8\n",
      "Not yet 0 2\n",
      "no 1 0\n",
      "yes 2 0\n",
      "Na 3 16\n"
     ]
    }
   ],
   "source": [
    "for i in df[\"letter\"].unique():\n",
    "            print(i,(df[(df['letter']==i) & (df.obsat==1)].shape[0]),(df[(df['letter']==i) & (df.obsat==0)].shape[0]),sep=\" \")    "
   ]
  },
  {
   "cell_type": "code",
   "execution_count": 36,
   "metadata": {},
   "outputs": [],
   "source": [
    "df['letter'].replace({'Yes':'Y', 'Havent Checked':'Y', 'No':'N', 'Need To Check':'N', 'Not sure':'Y','Not Sure':'N', 'Not yet':'N', 'no':'N', 'yes':'Y', 'Na':'N'},inplace=True)"
   ]
  },
  {
   "cell_type": "code",
   "execution_count": 37,
   "metadata": {},
   "outputs": [
    {
     "name": "stdout",
     "output_type": "stream",
     "text": [
      "Y 670 266\n",
      "N 6 42\n"
     ]
    }
   ],
   "source": [
    "for i in df[\"letter\"].unique():\n",
    "            print(i,(df[(df['letter']==i) & (df.obsat==1)].shape[0]),(df[(df['letter']==i) & (df.obsat==0)].shape[0]),sep=\" \")    "
   ]
  },
  {
   "cell_type": "markdown",
   "metadata": {},
   "source": [
    "#  Clear"
   ]
  },
  {
   "cell_type": "code",
   "execution_count": 38,
   "metadata": {},
   "outputs": [
    {
     "name": "stdout",
     "output_type": "stream",
     "text": [
      "Yes 668 278\n",
      "No 1 13\n",
      "No- I need to check 1 1\n",
      "yes 2 0\n",
      "Na 3 16\n",
      "no 1 0\n"
     ]
    }
   ],
   "source": [
    "for i in df[\"clear\"].unique():\n",
    "            print(i,(df[(df['clear']==i) & (df.obsat==1)].shape[0]),(df[(df['clear']==i) & (df.obsat==0)].shape[0]),sep=\" \")    "
   ]
  },
  {
   "cell_type": "code",
   "execution_count": 39,
   "metadata": {},
   "outputs": [],
   "source": [
    "df['clear'].replace({'Yes':'Y', 'No':'N', 'No- I need to check':'N', 'yes':'Y', 'Na':'N', 'no':'N'},inplace=True)"
   ]
  },
  {
   "cell_type": "code",
   "execution_count": 40,
   "metadata": {},
   "outputs": [
    {
     "name": "stdout",
     "output_type": "stream",
     "text": [
      "Y 670 278\n",
      "N 6 30\n"
     ]
    }
   ],
   "source": [
    "for i in df[\"clear\"].unique():\n",
    "            print(i,(df[(df['clear']==i) & (df.obsat==1)].shape[0]),(df[(df['clear']==i) & (df.obsat==0)].shape[0]),sep=\" \")    "
   ]
  },
  {
   "cell_type": "markdown",
   "metadata": {},
   "source": [
    "# No."
   ]
  },
  {
   "cell_type": "code",
   "execution_count": 41,
   "metadata": {},
   "outputs": [
    {
     "name": "stdout",
     "output_type": "stream",
     "text": [
      "Yes 665 271\n",
      "No 7 19\n",
      "No I have only thi number 0 2\n",
      "yes 1 0\n",
      "Na 3 16\n"
     ]
    }
   ],
   "source": [
    "for i in df[\"no.\"].unique():\n",
    "            print(i,(df[(df['no.']==i) & (df.obsat==1)].shape[0]),(df[(df['no.']==i) & (df.obsat==0)].shape[0]),sep=\" \")    "
   ]
  },
  {
   "cell_type": "code",
   "execution_count": 42,
   "metadata": {},
   "outputs": [],
   "source": [
    "df['no.'].replace({'Yes':'Y', 'No':'N', 'No I have only thi number':'N', 'yes':'Y', 'Na':'N'},inplace=True)"
   ]
  },
  {
   "cell_type": "code",
   "execution_count": 43,
   "metadata": {},
   "outputs": [
    {
     "name": "stdout",
     "output_type": "stream",
     "text": [
      "Y 666 271\n",
      "N 10 37\n"
     ]
    }
   ],
   "source": [
    "for i in df[\"no.\"].unique():\n",
    "            print(i,(df[(df['no.']==i) & (df.obsat==1)].shape[0]),(df[(df['no.']==i) & (df.obsat==0)].shape[0]),sep=\" \")    "
   ]
  },
  {
   "cell_type": "markdown",
   "metadata": {},
   "source": [
    " # Call"
   ]
  },
  {
   "cell_type": "code",
   "execution_count": 44,
   "metadata": {},
   "outputs": [
    {
     "name": "stdout",
     "output_type": "stream",
     "text": [
      "Yes 665 286\n",
      "No 3 6\n",
      "No Dont 1 0\n",
      "yes 4 0\n",
      "Na 3 16\n"
     ]
    }
   ],
   "source": [
    "for i in df[\"call\"].unique():\n",
    "            print(i,(df[(df['call']==i) & (df.obsat==1)].shape[0]),(df[(df['call']==i) & (df.obsat==0)].shape[0]),sep=\" \")    "
   ]
  },
  {
   "cell_type": "code",
   "execution_count": 45,
   "metadata": {},
   "outputs": [],
   "source": [
    "df['call'].replace({'Yes':'Y', 'No':'N', 'No Dont':'Y', 'yes':'Y', 'Na':'N'},inplace=True)"
   ]
  },
  {
   "cell_type": "code",
   "execution_count": 46,
   "metadata": {},
   "outputs": [
    {
     "name": "stdout",
     "output_type": "stream",
     "text": [
      "Y 670 286\n",
      "N 6 22\n"
     ]
    }
   ],
   "source": [
    "for i in df[\"call\"].unique():\n",
    "            print(i,(df[(df['call']==i) & (df.obsat==1)].shape[0]),(df[(df['call']==i) & (df.obsat==0)].shape[0]),sep=\" \")    "
   ]
  },
  {
   "cell_type": "markdown",
   "metadata": {},
   "source": [
    "# Currloc"
   ]
  },
  {
   "cell_type": "code",
   "execution_count": 47,
   "metadata": {},
   "outputs": [],
   "source": [
    "df.currloc.replace({'Chennai':'C','Gurgaon':'G','Bangalore':'B','Hyderabad':'H','Delhi':'D','chennai':'C','- Cochin- ':'K','Noida':'N','CHENNAI':'C','chennai ':'C'},inplace=True)"
   ]
  },
  {
   "cell_type": "markdown",
   "metadata": {},
   "source": [
    "# Venue"
   ]
  },
  {
   "cell_type": "code",
   "execution_count": 48,
   "metadata": {},
   "outputs": [],
   "source": [
    "df.venue.replace({'Hosur':'H', 'Gurgaon':'G', 'Bangalore':'B', 'Chennai':'C', 'Hyderabad':'H',\n",
    "       '- Cochin- ':'K', 'Noida':'N'},inplace=True)"
   ]
  },
  {
   "cell_type": "markdown",
   "metadata": {},
   "source": [
    "# Jobloc"
   ]
  },
  {
   "cell_type": "code",
   "execution_count": 49,
   "metadata": {},
   "outputs": [],
   "source": [
    "df.jobloc.replace({'Hosur':'H', 'Bangalore':'B', 'Chennai':\"C\", 'Gurgaon':'G', 'Visakapatinam':'V',\n",
    "       '- Cochin- ':'K', 'Noida':'N'},inplace=True)"
   ]
  },
  {
   "cell_type": "markdown",
   "metadata": {},
   "source": [
    "# Type"
   ]
  },
  {
   "cell_type": "code",
   "execution_count": 50,
   "metadata": {},
   "outputs": [],
   "source": [
    "df['type'].replace({'Scheduled Walkin':'SW', 'Scheduled ':'S', 'Walkin':'W', 'Scheduled Walk In':'SW',\n",
    "       'Walkin ':'W'},inplace=True)"
   ]
  },
  {
   "cell_type": "markdown",
   "metadata": {},
   "source": [
    "# Location"
   ]
  },
  {
   "cell_type": "code",
   "execution_count": 51,
   "metadata": {},
   "outputs": [],
   "source": [
    "df.location.replace({'Chennai':'C', 'Gurgaon':'G', 'Bangalore':'B', 'Hyderabad':'H', 'Gurgaonr':'G',\n",
    "       'Delhi':'D', 'chennai':'C', '- Cochin- ':'K', 'Noida':'N', 'CHENNAI':'C', 'chennai ':'C'},inplace=True)"
   ]
  },
  {
   "cell_type": "markdown",
   "metadata": {},
   "source": [
    "# Closedpos"
   ]
  },
  {
   "cell_type": "code",
   "execution_count": 52,
   "metadata": {},
   "outputs": [],
   "source": [
    "df.closedpos.replace({'Production- Sterile':'P','Selenium testing':'S','Dot Net':'D','AML':'A','Trade Finance':'T','Routine':'R','Niche':'N'},inplace=True)"
   ]
  },
  {
   "cell_type": "code",
   "execution_count": 53,
   "metadata": {},
   "outputs": [
    {
     "data": {
      "text/html": [
       "<div>\n",
       "<style scoped>\n",
       "    .dataframe tbody tr th:only-of-type {\n",
       "        vertical-align: middle;\n",
       "    }\n",
       "\n",
       "    .dataframe tbody tr th {\n",
       "        vertical-align: top;\n",
       "    }\n",
       "\n",
       "    .dataframe thead th {\n",
       "        text-align: right;\n",
       "    }\n",
       "</style>\n",
       "<table border=\"1\" class=\"dataframe\">\n",
       "  <thead>\n",
       "    <tr style=\"text-align: right;\">\n",
       "      <th></th>\n",
       "      <th>date</th>\n",
       "      <th>client</th>\n",
       "      <th>industry</th>\n",
       "      <th>location</th>\n",
       "      <th>closedpos</th>\n",
       "      <th>skills</th>\n",
       "      <th>type</th>\n",
       "      <th>id</th>\n",
       "      <th>gender</th>\n",
       "      <th>currloc</th>\n",
       "      <th>...</th>\n",
       "      <th>clear</th>\n",
       "      <th>letter</th>\n",
       "      <th>expat</th>\n",
       "      <th>obsat</th>\n",
       "      <th>marit</th>\n",
       "      <th>year</th>\n",
       "      <th>month</th>\n",
       "      <th>day</th>\n",
       "      <th>dayofyear</th>\n",
       "      <th>dayofweek</th>\n",
       "    </tr>\n",
       "  </thead>\n",
       "  <tbody>\n",
       "    <tr>\n",
       "      <th>0</th>\n",
       "      <td>2015-02-13</td>\n",
       "      <td>H</td>\n",
       "      <td>P</td>\n",
       "      <td>C</td>\n",
       "      <td>P</td>\n",
       "      <td>Routine</td>\n",
       "      <td>SW</td>\n",
       "      <td>Candidate 1</td>\n",
       "      <td>Male</td>\n",
       "      <td>C</td>\n",
       "      <td>...</td>\n",
       "      <td>Y</td>\n",
       "      <td>Y</td>\n",
       "      <td>Y</td>\n",
       "      <td>0</td>\n",
       "      <td>Single</td>\n",
       "      <td>2015.0</td>\n",
       "      <td>2.0</td>\n",
       "      <td>13.0</td>\n",
       "      <td>44.0</td>\n",
       "      <td>5.0</td>\n",
       "    </tr>\n",
       "    <tr>\n",
       "      <th>1</th>\n",
       "      <td>2015-02-13</td>\n",
       "      <td>H</td>\n",
       "      <td>P</td>\n",
       "      <td>C</td>\n",
       "      <td>P</td>\n",
       "      <td>Routine</td>\n",
       "      <td>SW</td>\n",
       "      <td>Candidate 2</td>\n",
       "      <td>Male</td>\n",
       "      <td>C</td>\n",
       "      <td>...</td>\n",
       "      <td>Y</td>\n",
       "      <td>Y</td>\n",
       "      <td>Y</td>\n",
       "      <td>0</td>\n",
       "      <td>Single</td>\n",
       "      <td>2015.0</td>\n",
       "      <td>2.0</td>\n",
       "      <td>13.0</td>\n",
       "      <td>44.0</td>\n",
       "      <td>5.0</td>\n",
       "    </tr>\n",
       "    <tr>\n",
       "      <th>3</th>\n",
       "      <td>2015-02-13</td>\n",
       "      <td>H</td>\n",
       "      <td>P</td>\n",
       "      <td>C</td>\n",
       "      <td>P</td>\n",
       "      <td>Routine</td>\n",
       "      <td>SW</td>\n",
       "      <td>Candidate 4</td>\n",
       "      <td>Male</td>\n",
       "      <td>C</td>\n",
       "      <td>...</td>\n",
       "      <td>Y</td>\n",
       "      <td>Y</td>\n",
       "      <td>N</td>\n",
       "      <td>0</td>\n",
       "      <td>Single</td>\n",
       "      <td>2015.0</td>\n",
       "      <td>2.0</td>\n",
       "      <td>13.0</td>\n",
       "      <td>44.0</td>\n",
       "      <td>5.0</td>\n",
       "    </tr>\n",
       "    <tr>\n",
       "      <th>4</th>\n",
       "      <td>2015-02-13</td>\n",
       "      <td>H</td>\n",
       "      <td>P</td>\n",
       "      <td>C</td>\n",
       "      <td>P</td>\n",
       "      <td>Routine</td>\n",
       "      <td>SW</td>\n",
       "      <td>Candidate 5</td>\n",
       "      <td>Male</td>\n",
       "      <td>C</td>\n",
       "      <td>...</td>\n",
       "      <td>Y</td>\n",
       "      <td>Y</td>\n",
       "      <td>N</td>\n",
       "      <td>0</td>\n",
       "      <td>Married</td>\n",
       "      <td>2015.0</td>\n",
       "      <td>2.0</td>\n",
       "      <td>13.0</td>\n",
       "      <td>44.0</td>\n",
       "      <td>5.0</td>\n",
       "    </tr>\n",
       "    <tr>\n",
       "      <th>5</th>\n",
       "      <td>2015-02-13</td>\n",
       "      <td>A</td>\n",
       "      <td>I</td>\n",
       "      <td>G</td>\n",
       "      <td>S</td>\n",
       "      <td>Routine</td>\n",
       "      <td>SW</td>\n",
       "      <td>Candidate 6</td>\n",
       "      <td>Male</td>\n",
       "      <td>G</td>\n",
       "      <td>...</td>\n",
       "      <td>Y</td>\n",
       "      <td>Y</td>\n",
       "      <td>Y</td>\n",
       "      <td>1</td>\n",
       "      <td>Single</td>\n",
       "      <td>2015.0</td>\n",
       "      <td>2.0</td>\n",
       "      <td>13.0</td>\n",
       "      <td>44.0</td>\n",
       "      <td>5.0</td>\n",
       "    </tr>\n",
       "  </tbody>\n",
       "</table>\n",
       "<p>5 rows × 28 columns</p>\n",
       "</div>"
      ],
      "text/plain": [
       "         date client industry location closedpos   skills type           id  \\\n",
       "0  2015-02-13      H        P        C         P  Routine   SW  Candidate 1   \n",
       "1  2015-02-13      H        P        C         P  Routine   SW  Candidate 2   \n",
       "3  2015-02-13      H        P        C         P  Routine   SW  Candidate 4   \n",
       "4  2015-02-13      H        P        C         P  Routine   SW  Candidate 5   \n",
       "5  2015-02-13      A        I        G         S  Routine   SW  Candidate 6   \n",
       "\n",
       "  gender currloc    ...    clear letter expat obsat    marit    year month  \\\n",
       "0   Male       C    ...        Y      Y     Y     0   Single  2015.0   2.0   \n",
       "1   Male       C    ...        Y      Y     Y     0   Single  2015.0   2.0   \n",
       "3   Male       C    ...        Y      Y     N     0   Single  2015.0   2.0   \n",
       "4   Male       C    ...        Y      Y     N     0  Married  2015.0   2.0   \n",
       "5   Male       G    ...        Y      Y     Y     1   Single  2015.0   2.0   \n",
       "\n",
       "    day dayofyear dayofweek  \n",
       "0  13.0      44.0       5.0  \n",
       "1  13.0      44.0       5.0  \n",
       "3  13.0      44.0       5.0  \n",
       "4  13.0      44.0       5.0  \n",
       "5  13.0      44.0       5.0  \n",
       "\n",
       "[5 rows x 28 columns]"
      ]
     },
     "execution_count": 53,
     "metadata": {},
     "output_type": "execute_result"
    }
   ],
   "source": [
    "df.head()"
   ]
  },
  {
   "cell_type": "markdown",
   "metadata": {},
   "source": [
    "#### Dropping the id column as this is similar to the serial number"
   ]
  },
  {
   "cell_type": "code",
   "execution_count": 54,
   "metadata": {},
   "outputs": [],
   "source": [
    "df.drop(\"id\",axis=1,inplace=True)"
   ]
  },
  {
   "cell_type": "code",
   "execution_count": 55,
   "metadata": {},
   "outputs": [
    {
     "data": {
      "text/html": [
       "<div>\n",
       "<style scoped>\n",
       "    .dataframe tbody tr th:only-of-type {\n",
       "        vertical-align: middle;\n",
       "    }\n",
       "\n",
       "    .dataframe tbody tr th {\n",
       "        vertical-align: top;\n",
       "    }\n",
       "\n",
       "    .dataframe thead th {\n",
       "        text-align: right;\n",
       "    }\n",
       "</style>\n",
       "<table border=\"1\" class=\"dataframe\">\n",
       "  <thead>\n",
       "    <tr style=\"text-align: right;\">\n",
       "      <th></th>\n",
       "      <th>date</th>\n",
       "      <th>client</th>\n",
       "      <th>industry</th>\n",
       "      <th>location</th>\n",
       "      <th>closedpos</th>\n",
       "      <th>skills</th>\n",
       "      <th>type</th>\n",
       "      <th>gender</th>\n",
       "      <th>currloc</th>\n",
       "      <th>jobloc</th>\n",
       "      <th>...</th>\n",
       "      <th>clear</th>\n",
       "      <th>letter</th>\n",
       "      <th>expat</th>\n",
       "      <th>obsat</th>\n",
       "      <th>marit</th>\n",
       "      <th>year</th>\n",
       "      <th>month</th>\n",
       "      <th>day</th>\n",
       "      <th>dayofyear</th>\n",
       "      <th>dayofweek</th>\n",
       "    </tr>\n",
       "  </thead>\n",
       "  <tbody>\n",
       "    <tr>\n",
       "      <th>0</th>\n",
       "      <td>2015-02-13</td>\n",
       "      <td>H</td>\n",
       "      <td>P</td>\n",
       "      <td>C</td>\n",
       "      <td>P</td>\n",
       "      <td>Routine</td>\n",
       "      <td>SW</td>\n",
       "      <td>Male</td>\n",
       "      <td>C</td>\n",
       "      <td>H</td>\n",
       "      <td>...</td>\n",
       "      <td>Y</td>\n",
       "      <td>Y</td>\n",
       "      <td>Y</td>\n",
       "      <td>0</td>\n",
       "      <td>Single</td>\n",
       "      <td>2015.0</td>\n",
       "      <td>2.0</td>\n",
       "      <td>13.0</td>\n",
       "      <td>44.0</td>\n",
       "      <td>5.0</td>\n",
       "    </tr>\n",
       "    <tr>\n",
       "      <th>1</th>\n",
       "      <td>2015-02-13</td>\n",
       "      <td>H</td>\n",
       "      <td>P</td>\n",
       "      <td>C</td>\n",
       "      <td>P</td>\n",
       "      <td>Routine</td>\n",
       "      <td>SW</td>\n",
       "      <td>Male</td>\n",
       "      <td>C</td>\n",
       "      <td>B</td>\n",
       "      <td>...</td>\n",
       "      <td>Y</td>\n",
       "      <td>Y</td>\n",
       "      <td>Y</td>\n",
       "      <td>0</td>\n",
       "      <td>Single</td>\n",
       "      <td>2015.0</td>\n",
       "      <td>2.0</td>\n",
       "      <td>13.0</td>\n",
       "      <td>44.0</td>\n",
       "      <td>5.0</td>\n",
       "    </tr>\n",
       "    <tr>\n",
       "      <th>3</th>\n",
       "      <td>2015-02-13</td>\n",
       "      <td>H</td>\n",
       "      <td>P</td>\n",
       "      <td>C</td>\n",
       "      <td>P</td>\n",
       "      <td>Routine</td>\n",
       "      <td>SW</td>\n",
       "      <td>Male</td>\n",
       "      <td>C</td>\n",
       "      <td>C</td>\n",
       "      <td>...</td>\n",
       "      <td>Y</td>\n",
       "      <td>Y</td>\n",
       "      <td>N</td>\n",
       "      <td>0</td>\n",
       "      <td>Single</td>\n",
       "      <td>2015.0</td>\n",
       "      <td>2.0</td>\n",
       "      <td>13.0</td>\n",
       "      <td>44.0</td>\n",
       "      <td>5.0</td>\n",
       "    </tr>\n",
       "    <tr>\n",
       "      <th>4</th>\n",
       "      <td>2015-02-13</td>\n",
       "      <td>H</td>\n",
       "      <td>P</td>\n",
       "      <td>C</td>\n",
       "      <td>P</td>\n",
       "      <td>Routine</td>\n",
       "      <td>SW</td>\n",
       "      <td>Male</td>\n",
       "      <td>C</td>\n",
       "      <td>B</td>\n",
       "      <td>...</td>\n",
       "      <td>Y</td>\n",
       "      <td>Y</td>\n",
       "      <td>N</td>\n",
       "      <td>0</td>\n",
       "      <td>Married</td>\n",
       "      <td>2015.0</td>\n",
       "      <td>2.0</td>\n",
       "      <td>13.0</td>\n",
       "      <td>44.0</td>\n",
       "      <td>5.0</td>\n",
       "    </tr>\n",
       "    <tr>\n",
       "      <th>5</th>\n",
       "      <td>2015-02-13</td>\n",
       "      <td>A</td>\n",
       "      <td>I</td>\n",
       "      <td>G</td>\n",
       "      <td>S</td>\n",
       "      <td>Routine</td>\n",
       "      <td>SW</td>\n",
       "      <td>Male</td>\n",
       "      <td>G</td>\n",
       "      <td>G</td>\n",
       "      <td>...</td>\n",
       "      <td>Y</td>\n",
       "      <td>Y</td>\n",
       "      <td>Y</td>\n",
       "      <td>1</td>\n",
       "      <td>Single</td>\n",
       "      <td>2015.0</td>\n",
       "      <td>2.0</td>\n",
       "      <td>13.0</td>\n",
       "      <td>44.0</td>\n",
       "      <td>5.0</td>\n",
       "    </tr>\n",
       "  </tbody>\n",
       "</table>\n",
       "<p>5 rows × 27 columns</p>\n",
       "</div>"
      ],
      "text/plain": [
       "         date client industry location closedpos   skills type gender currloc  \\\n",
       "0  2015-02-13      H        P        C         P  Routine   SW   Male       C   \n",
       "1  2015-02-13      H        P        C         P  Routine   SW   Male       C   \n",
       "3  2015-02-13      H        P        C         P  Routine   SW   Male       C   \n",
       "4  2015-02-13      H        P        C         P  Routine   SW   Male       C   \n",
       "5  2015-02-13      A        I        G         S  Routine   SW   Male       G   \n",
       "\n",
       "  jobloc    ...    clear letter expat obsat    marit    year month   day  \\\n",
       "0      H    ...        Y      Y     Y     0   Single  2015.0   2.0  13.0   \n",
       "1      B    ...        Y      Y     Y     0   Single  2015.0   2.0  13.0   \n",
       "3      C    ...        Y      Y     N     0   Single  2015.0   2.0  13.0   \n",
       "4      B    ...        Y      Y     N     0  Married  2015.0   2.0  13.0   \n",
       "5      G    ...        Y      Y     Y     1   Single  2015.0   2.0  13.0   \n",
       "\n",
       "  dayofyear dayofweek  \n",
       "0      44.0       5.0  \n",
       "1      44.0       5.0  \n",
       "3      44.0       5.0  \n",
       "4      44.0       5.0  \n",
       "5      44.0       5.0  \n",
       "\n",
       "[5 rows x 27 columns]"
      ]
     },
     "execution_count": 55,
     "metadata": {},
     "output_type": "execute_result"
    }
   ],
   "source": [
    "df.head()"
   ]
  },
  {
   "cell_type": "markdown",
   "metadata": {},
   "source": [
    "#### Label encoding all columns except date,skills and obseved attendance"
   ]
  },
  {
   "cell_type": "code",
   "execution_count": 56,
   "metadata": {},
   "outputs": [],
   "source": [
    "for i in df.drop([\"date\",\"skills\",\"obsat\"],axis=1):\n",
    "    df.loc[:,i]=le.fit_transform(df.loc[:,i])"
   ]
  },
  {
   "cell_type": "code",
   "execution_count": 57,
   "metadata": {},
   "outputs": [
    {
     "name": "stdout",
     "output_type": "stream",
     "text": [
      "<class 'pandas.core.frame.DataFrame'>\n",
      "Int64Index: 984 entries, 0 to 1231\n",
      "Data columns (total 27 columns):\n",
      "date         984 non-null object\n",
      "client       984 non-null int32\n",
      "industry     984 non-null int32\n",
      "location     984 non-null int32\n",
      "closedpos    984 non-null int32\n",
      "skills       984 non-null object\n",
      "type         984 non-null int32\n",
      "gender       984 non-null int32\n",
      "currloc      984 non-null int32\n",
      "jobloc       984 non-null int32\n",
      "venue        984 non-null int32\n",
      "natloc       984 non-null int32\n",
      "permit       984 non-null int32\n",
      "meeting      984 non-null int32\n",
      "call         984 non-null int32\n",
      "no.          984 non-null int32\n",
      "resume       984 non-null int32\n",
      "clear        984 non-null int32\n",
      "letter       984 non-null int32\n",
      "expat        984 non-null int32\n",
      "obsat        984 non-null int32\n",
      "marit        984 non-null int32\n",
      "year         984 non-null int64\n",
      "month        984 non-null int64\n",
      "day          984 non-null int64\n",
      "dayofyear    984 non-null int64\n",
      "dayofweek    984 non-null int64\n",
      "dtypes: int32(20), int64(5), object(2)\n",
      "memory usage: 178.4+ KB\n"
     ]
    }
   ],
   "source": [
    "df.info()"
   ]
  },
  {
   "cell_type": "markdown",
   "metadata": {},
   "source": [
    "# Feature importance "
   ]
  },
  {
   "cell_type": "markdown",
   "metadata": {},
   "source": [
    "###### Seeing the feature importance using random forest classifier"
   ]
  },
  {
   "cell_type": "code",
   "execution_count": 58,
   "metadata": {},
   "outputs": [],
   "source": [
    "X=df.drop([\"skills\",\"date\",\"obsat\"],axis=1)\n",
    "y=df[\"obsat\"]"
   ]
  },
  {
   "cell_type": "code",
   "execution_count": 66,
   "metadata": {},
   "outputs": [],
   "source": [
    "def get_importance(X,y):\n",
    "    rf=ensemble.RandomForestClassifier()\n",
    "    rf.fit(X,y)\n",
    "    return pd.DataFrame(rf.feature_importances_,columns=[\"Importance\"],index=X.columns).sort_values(\"Importance\",ascending=False)\n"
   ]
  },
  {
   "cell_type": "markdown",
   "metadata": {},
   "source": [
    "### Function to plot graph to see how Precision varies with no of features using DECISION TREE (RFECV)"
   ]
  },
  {
   "cell_type": "code",
   "execution_count": 67,
   "metadata": {},
   "outputs": [],
   "source": [
    "def modelstats1(X,y):\n",
    "    np.random.seed(42)\n",
    "    Xtrain,Xtest,ytrain,ytest=train_test_split(X,y,test_size=.25,random_state=42)\n",
    "    stats=[]\n",
    "    modelnames=[\"LR\",\"DecisionTree\",\"KNN\",\"NB\"]\n",
    "    models=list()\n",
    "    models.append(linear_model.LogisticRegression(C=10))\n",
    "    models.append(tree.DecisionTreeClassifier())\n",
    "    models.append(neighbors.KNeighborsClassifier())\n",
    "    models.append(naive_bayes.GaussianNB())\n",
    "    for name,model in zip(modelnames,models):\n",
    "        if name==\"KNN\":\n",
    "            k=[l for l in range(5,17,2)]\n",
    "            grid={\"n_neighbors\":k}\n",
    "            grid_obj = GridSearchCV(estimator=model,param_grid=grid,scoring=\"f1\")\n",
    "            grid_fit =grid_obj.fit(Xtrain,ytrain)\n",
    "            model = grid_fit.best_estimator_\n",
    "            model.fit(Xtrain,ytrain)\n",
    "            name=name+\"(\"+str(grid_fit.best_params_[\"n_neighbors\"])+\")\"\n",
    "            print(grid_fit.best_params_)\n",
    "        else:\n",
    "            model.fit(Xtrain,ytrain)\n",
    "        trainprediction=model.predict(Xtrain)\n",
    "        testpredicti\n",
    "        (metrics.recall_score(ytrain,trainprediction))\n",
    "        scores.append(metrics.roc_auc_score(ytrain,trainprediction))\n",
    "        stats.append(scores)\n",
    "        scores=list()\n",
    "        scores.append(name+\"-test\")\n",
    "        scores.append(metrics.accuracy_score(ytest,testprediction))\n",
    "        scores.append(metrics.precision_score(ytest,testprediction))\n",
    "        scores.append(metrics.recall_score(ytest,testprediction))\n",
    "        scores.append(metrics.roc_auc_score(ytest,testprediction))\n",
    "        stats.append(scores)\n",
    "    \n",
    "    colnames=[\"MODELNAME\",\"ACCURACY\",\"PRECISION\",\"RECALL\",\"AUC\"]\n",
    "    return pd.DataFrame(stats,columns=colnames)"
   ]
  },
  {
   "cell_type": "markdown",
   "metadata": {},
   "source": [
    "### Function to plot graph to see how Precision varies with no. of features using Random Forest Classifier"
   ]
  },
  {
   "cell_type": "code",
   "execution_count": 68,
   "metadata": {},
   "outputs": [
    {
     "data": {
      "text/html": [
       "<div>\n",
       "<style scoped>\n",
       "    .dataframe tbody tr th:only-of-type {\n",
       "        vertical-align: middle;\n",
       "    }\n",
       "\n",
       "    .dataframe tbody tr th {\n",
       "        vertical-align: top;\n",
       "    }\n",
       "\n",
       "    .dataframe thead th {\n",
       "        text-align: right;\n",
       "    }\n",
       "</style>\n",
       "<table border=\"1\" class=\"dataframe\">\n",
       "  <thead>\n",
       "    <tr style=\"text-align: right;\">\n",
       "      <th></th>\n",
       "      <th>Importance</th>\n",
       "    </tr>\n",
       "  </thead>\n",
       "  <tbody>\n",
       "    <tr>\n",
       "      <th>natloc</th>\n",
       "      <td>0.197052</td>\n",
       "    </tr>\n",
       "    <tr>\n",
       "      <th>expat</th>\n",
       "      <td>0.159480</td>\n",
       "    </tr>\n",
       "    <tr>\n",
       "      <th>gender</th>\n",
       "      <td>0.084239</td>\n",
       "    </tr>\n",
       "    <tr>\n",
       "      <th>marit</th>\n",
       "      <td>0.067801</td>\n",
       "    </tr>\n",
       "    <tr>\n",
       "      <th>day</th>\n",
       "      <td>0.056067</td>\n",
       "    </tr>\n",
       "    <tr>\n",
       "      <th>dayofyear</th>\n",
       "      <td>0.052196</td>\n",
       "    </tr>\n",
       "    <tr>\n",
       "      <th>permit</th>\n",
       "      <td>0.051735</td>\n",
       "    </tr>\n",
       "    <tr>\n",
       "      <th>type</th>\n",
       "      <td>0.037463</td>\n",
       "    </tr>\n",
       "    <tr>\n",
       "      <th>dayofweek</th>\n",
       "      <td>0.035400</td>\n",
       "    </tr>\n",
       "    <tr>\n",
       "      <th>resume</th>\n",
       "      <td>0.030088</td>\n",
       "    </tr>\n",
       "    <tr>\n",
       "      <th>letter</th>\n",
       "      <td>0.029334</td>\n",
       "    </tr>\n",
       "    <tr>\n",
       "      <th>month</th>\n",
       "      <td>0.029317</td>\n",
       "    </tr>\n",
       "    <tr>\n",
       "      <th>client</th>\n",
       "      <td>0.024113</td>\n",
       "    </tr>\n",
       "    <tr>\n",
       "      <th>closedpos</th>\n",
       "      <td>0.020785</td>\n",
       "    </tr>\n",
       "    <tr>\n",
       "      <th>meeting</th>\n",
       "      <td>0.020265</td>\n",
       "    </tr>\n",
       "    <tr>\n",
       "      <th>industry</th>\n",
       "      <td>0.019999</td>\n",
       "    </tr>\n",
       "    <tr>\n",
       "      <th>year</th>\n",
       "      <td>0.018313</td>\n",
       "    </tr>\n",
       "    <tr>\n",
       "      <th>no.</th>\n",
       "      <td>0.017280</td>\n",
       "    </tr>\n",
       "    <tr>\n",
       "      <th>jobloc</th>\n",
       "      <td>0.013301</td>\n",
       "    </tr>\n",
       "    <tr>\n",
       "      <th>currloc</th>\n",
       "      <td>0.008820</td>\n",
       "    </tr>\n",
       "    <tr>\n",
       "      <th>clear</th>\n",
       "      <td>0.008195</td>\n",
       "    </tr>\n",
       "    <tr>\n",
       "      <th>venue</th>\n",
       "      <td>0.007116</td>\n",
       "    </tr>\n",
       "    <tr>\n",
       "      <th>location</th>\n",
       "      <td>0.006818</td>\n",
       "    </tr>\n",
       "    <tr>\n",
       "      <th>call</th>\n",
       "      <td>0.004821</td>\n",
       "    </tr>\n",
       "  </tbody>\n",
       "</table>\n",
       "</div>"
      ],
      "text/plain": [
       "           Importance\n",
       "natloc       0.197052\n",
       "expat        0.159480\n",
       "gender       0.084239\n",
       "marit        0.067801\n",
       "day          0.056067\n",
       "dayofyear    0.052196\n",
       "permit       0.051735\n",
       "type         0.037463\n",
       "dayofweek    0.035400\n",
       "resume       0.030088\n",
       "letter       0.029334\n",
       "month        0.029317\n",
       "client       0.024113\n",
       "closedpos    0.020785\n",
       "meeting      0.020265\n",
       "industry     0.019999\n",
       "year         0.018313\n",
       "no.          0.017280\n",
       "jobloc       0.013301\n",
       "currloc      0.008820\n",
       "clear        0.008195\n",
       "venue        0.007116\n",
       "location     0.006818\n",
       "call         0.004821"
      ]
     },
     "execution_count": 68,
     "metadata": {},
     "output_type": "execute_result"
    }
   ],
   "source": [
    "imp=get_importance(X,y)\n",
    "imp"
   ]
  },
  {
   "cell_type": "code",
   "execution_count": 69,
   "metadata": {},
   "outputs": [],
   "source": [
    "def rfe_selection(X,y):\n",
    "    np.random.seed(42)\n",
    "    rf=ensemble.RandomForestClassifier()\n",
    "    train=[]\n",
    "    test=[]\n",
    "    loss=[]\n",
    "    m=[rf]\n",
    "    s=[\"Random Forest\"]\n",
    "    X_train,X_test,y_train,y_test=train_test_split(X,y,test_size=.25,random_state=42)\n",
    "    for j in range(0,len(m)):\n",
    "        #print(s[j])\n",
    "        model=m[j]\n",
    "        for i in range(1,30):\n",
    "            rfecv=feature_selection.RFE(estimator=model,n_features_to_select=i)\n",
    "            rfecv.fit(X_train,y_train)\n",
    "            cols=X.columns[rfecv.get_support()]\n",
    "            X_=X_train[cols]\n",
    "            X_t=X_test[cols]\n",
    "            rfecv.fit(X_,y_train)\n",
    "            \n",
    "            #model.fit(X_,y)\n",
    "            #print(cols)\n",
    "            train.append(metrics.precision_score(y_train,rfecv.predict(X_)))\n",
    "            test.append(metrics.precision_score(y_test,rfecv.predict(X_t)))\n",
    "            loss.append(metrics.log_loss(y_test,rfecv.predict_proba(X_t)))\n",
    "    plt.figure()\n",
    "    plt.plot(np.arange(1,30,1),train)\n",
    "    plt.plot(np.arange(1,30,1),test)\n",
    "    plt.title(\"Optimal Number of Features (Random Forest) \")\n",
    "    plt.legend(['train score', 'test score'], loc='upper left')\n",
    "    plt.ylim(.7,.8)\n",
    "    plt.show()"
   ]
  },
  {
   "cell_type": "markdown",
   "metadata": {},
   "source": [
    "### Function to plot graph to see how Precision varies with no of features using DECISION TREE (RFECV)"
   ]
  },
  {
   "cell_type": "code",
   "execution_count": 70,
   "metadata": {},
   "outputs": [],
   "source": [
    "from sklearn import feature_selection\n",
    "def get_feat_dt(X,y):\n",
    "    np.random.seed(42)\n",
    "    X_train,X_test,y_train,y_test=train_test_split(X,y,test_size=.25,random_state=42)\n",
    "    model=tree.DecisionTreeClassifier()\n",
    "    n=X.shape[1]\n",
    "    tr_score=[]\n",
    "    ts_score=[]\n",
    "    for i in range(1,n):\n",
    "        rfecv=feature_selection.RFE(model,n_features_to_select=i)\n",
    "        rfecv.fit(X_train,y_train)\n",
    "        col=X.columns[rfecv.get_support()]\n",
    "        model.fit(X_train[col],y_train)\n",
    "        tr_p=model.predict(X_train[col])\n",
    "        ts_p=model.predict(X_test[col])\n",
    "        tr_score.append(metrics.precision_score(y_train,tr_p))\n",
    "        ts_score.append(metrics.precision_score(y_test,ts_p))\n",
    "    plt.figure()\n",
    "    plt.plot(range(1,n),tr_score)\n",
    "    plt.plot(range(1,n),ts_score)\n",
    "    plt.xlabel(\"min_features using Decison Tree\")\n",
    "    plt.ylabel(\"Precision\")\n",
    "    plt.legend(['train score', 'test score'], loc='upper left')\n",
    "    plt.ylim(.7,.8)\n",
    "    plt.show()\n",
    "    "
   ]
  },
  {
   "cell_type": "markdown",
   "metadata": {},
   "source": [
    "### Function to calculate the scores of different ML models on the label encoded Data"
   ]
  },
  {
   "cell_type": "code",
   "execution_count": 71,
   "metadata": {},
   "outputs": [],
   "source": [
    "def modelstats1(X,y):\n",
    "    np.random.seed(42)\n",
    "    Xtrain,Xtest,ytrain,ytest=train_test_split(X,y,test_size=.25,random_state=42)\n",
    "    stats=[]\n",
    "    modelnames=[\"LR\",\"DecisionTree\",\"KNN\",\"NB\"]\n",
    "    models=list()\n",
    "    models.append(linear_model.LogisticRegression(C=10))\n",
    "    models.append(tree.DecisionTreeClassifier())\n",
    "    models.append(neighbors.KNeighborsClassifier())\n",
    "    models.append(naive_bayes.GaussianNB())\n",
    "    for name,model in zip(modelnames,models):\n",
    "        if name==\"KNN\":\n",
    "            k=[l for l in range(5,17,2)]\n",
    "            grid={\"n_neighbors\":k}\n",
    "            grid_obj = GridSearchCV(estimator=model,param_grid=grid,scoring=\"f1\")\n",
    "            grid_fit =grid_obj.fit(Xtrain,ytrain)\n",
    "            model = grid_fit.best_estimator_\n",
    "            model.fit(Xtrain,ytrain)\n",
    "            name=name+\"(\"+str(grid_fit.best_params_[\"n_neighbors\"])+\")\"\n",
    "            print(grid_fit.best_params_)\n",
    "        else:\n",
    "            model.fit(Xtrain,ytrain)\n",
    "        trainprediction=model.predict(Xtrain)\n",
    "        testprediction=model.predict(Xtest)\n",
    "        scores=list()\n",
    "        scores.append(name+\"-train\")\n",
    "        scores.append(metrics.accuracy_score(ytrain,trainprediction))\n",
    "        scores.append(metrics.precision_score(ytrain,trainprediction))\n",
    "        scores.append(metrics.recall_score(ytrain,trainprediction))\n",
    "        scores.append(metrics.roc_auc_score(ytrain,trainprediction))\n",
    "        stats.append(scores)\n",
    "        scores=list()\n",
    "        scores.append(name+\"-test\")\n",
    "        scores.append(metrics.accuracy_score(ytest,testprediction))\n",
    "        scores.append(metrics.precision_score(ytest,testprediction))\n",
    "        scores.append(metrics.recall_score(ytest,testprediction))\n",
    "        scores.append(metrics.roc_auc_score(ytest,testprediction))\n",
    "        stats.append(scores)\n",
    "    \n",
    "    colnames=[\"MODELNAME\",\"ACCURACY\",\"PRECISION\",\"RECALL\",\"AUC\"]\n",
    "    return pd.DataFrame(stats,columns=colnames)"
   ]
  },
  {
   "cell_type": "markdown",
   "metadata": {},
   "source": [
    "### Function to calculate the score for the RandomForestClassifier models with different number of features"
   ]
  },
  {
   "cell_type": "code",
   "execution_count": 87,
   "metadata": {},
   "outputs": [],
   "source": [
    "def run_rf(X,y,i):\n",
    "    np.random.seed(42)\n",
    "    X_train,X_test,y_train,y_test=train_test_split(X,y,test_size=.25,random_state=42)\n",
    "    model=ensemble.RandomForestClassifier()\n",
    "    rfecv=feature_selection.RFE(model,n_features_to_select=i)\n",
    "    rfecv.fit(X_train,y_train)\n",
    "    col=X.columns[rfecv.get_support()]\n",
    "    model.fit(X_train[col],y_train)\n",
    "    tr_p=model.predict(X_train[col])\n",
    "    ts_p=model.predict(X_test[col])\n",
    "    print (col)\n",
    "    print(i)\n",
    "    print(\"Train Set\")\n",
    "    print(\"precison\",metrics.precision_score(y_train,tr_p)*100)\n",
    "    print(\"recall\",metrics.recall_score(y_train,tr_p)*100)\n",
    "    print(\"accuracy\",metrics.accuracy_score(y_train,tr_p)*100)\n",
    "    print(\"log loss\",metrics.log_loss(y_train,model.predict_proba(X_train[col])))\n",
    "    print(\"Test Set\")\n",
    "    print(\"precision\",metrics.precision_score(y_test,ts_p)*100)\n",
    "    print(\"recall\",metrics.recall_score(y_test,ts_p)*100)\n",
    "    print(\"acuuracy\",metrics.accuracy_score(y_test,ts_p)*100)\n",
    "    print(\"log loss\",metrics.log_loss(y_test,model.predict_proba(X_test[col])))\n",
    "    \n",
    "    from sklearn.metrics import roc_curve, auc\n",
    "    fpr, tpr, thresholds = roc_curve(ts_p, y_test)\n",
    "    roc_auc = auc(fpr, tpr)\n",
    "    name=\"RF\"\n",
    "    plt.figure()\n",
    "    plt.plot(fpr, tpr, color='darkorange',  label='ROC curve (area = %0.2f)' % roc_auc)\n",
    "    plt.plot([0, 1], [0, 1], color='navy',  linestyle='--')\n",
    "    plt.xlim([0.0, 1.0])\n",
    "    plt.ylim([0.0, 1.05])\n",
    "    plt.xlabel('False Positive Rate')\n",
    "    plt.ylabel('True Positive Rate')\n",
    "    st='Receiver operating characteristic '+name\n",
    "    plt.title(st)\n",
    "    plt.legend(loc=\"lower right\")\n",
    "    plt.show()"
   ]
  },
  {
   "cell_type": "markdown",
   "metadata": {},
   "source": [
    "###  Function to calculate the score for the RandomForestClassifier models with different number of features"
   ]
  },
  {
   "cell_type": "code",
   "execution_count": 86,
   "metadata": {},
   "outputs": [],
   "source": [
    "def run_dt(X,y,i):\n",
    "    np.random.seed(42)\n",
    "    X_train,X_test,y_train,y_test=train_test_split(X,y,test_size=.25,random_state=42)\n",
    "    model=tree.DecisionTreeClassifier()\n",
    "    rfecv=feature_selection.RFE(model,n_features_to_select=i)\n",
    "    rfecv.fit(X_train,y_train)\n",
    "    col=X.columns[rfecv.get_support()]\n",
    "    model.fit(X_train[col],y_train)\n",
    "    tr_p=model.predict(X_train[col])\n",
    "    ts_p=model.predict(X_test[col])\n",
    "    print(i)\n",
    "    print(\"Train Set\")\n",
    "    print(\"precison\",metrics.precision_score(y_train,tr_p)*100)\n",
    "    print(\"recall\",metrics.recall_score(y_train,tr_p)*100)\n",
    "    print(\"accuracy\",metrics.accuracy_score(y_train,tr_p)*100)\n",
    "    print(\"log loss\",metrics.log_loss(y_train,model.predict_proba(X_train[col])))\n",
    "    print(\"Test Set\")\n",
    "    print(\"precision\",metrics.precision_score(y_test,ts_p)*100)\n",
    "    print(\"recall\",metrics.recall_score(y_test,ts_p)*100)\n",
    "    print(\"acuuracy\",metrics.accuracy_score(y_test,ts_p)*100)\n",
    "    print(\"log loss\",metrics.log_loss(y_test,model.predict_proba(X_test[col])))\n",
    "    \n",
    "    from sklearn.metrics import roc_curve, auc\n",
    "    fpr, tpr, thresholds = roc_curve(ts_p, y_test)\n",
    "    roc_auc = auc(fpr, tpr)\n",
    "    name=\"DT\"\n",
    "    plt.figure()\n",
    "    plt.plot(fpr, tpr, color='darkorange',  label='ROC curve (area = %0.2f)' % roc_auc)\n",
    "    plt.plot([0, 1], [0, 1], color='navy',  linestyle='--')\n",
    "    plt.xlim([0.0, 1.0])\n",
    "    plt.ylim([0.0, 1.05])\n",
    "    plt.xlabel('False Positive Rate')\n",
    "    plt.ylabel('True Positive Rate')\n",
    "    st='Receiver operating characteristic '+name\n",
    "    plt.title(st)\n",
    "    plt.legend(loc=\"lower right\")\n",
    "    plt.show()\n"
   ]
  },
  {
   "cell_type": "markdown",
   "metadata": {},
   "source": [
    "### Graph of optimal no. of features in DecisionTreeClassifier"
   ]
  },
  {
   "cell_type": "code",
   "execution_count": 74,
   "metadata": {},
   "outputs": [
    {
     "data": {
      "image/png": "[encoded data removed]",
      "text/plain": [
       "<Figure size 432x288 with 1 Axes>"
      ]
     },
     "metadata": {
      "needs_background": "light"
     },
     "output_type": "display_data"
    }
   ],
   "source": [
    "get_feat_dt(df.drop([\"date\",\"obsat\",\"skills\"],axis=1),df.obsat)"
   ]
  },
  {
   "cell_type": "markdown",
   "metadata": {},
   "source": [
    "### Graph of optimal no of features using RFE selection method"
   ]
  },
  {
   "cell_type": "code",
   "execution_count": 75,
   "metadata": {},
   "outputs": [
    {
     "data": {
      "image/png": "[encoded data removed]",
      "text/plain": [
       "<Figure size 432x288 with 1 Axes>"
      ]
     },
     "metadata": {
      "needs_background": "light"
     },
     "output_type": "display_data"
    }
   ],
   "source": [
    "rfe_selection(df.drop([\"date\",\"skills\",\"obsat\"],axis=1),df.obsat)"
   ]
  },
  {
   "cell_type": "markdown",
   "metadata": {},
   "source": [
    "### Running modelstats1 on all features of X"
   ]
  },
  {
   "cell_type": "code",
   "execution_count": 76,
   "metadata": {},
   "outputs": [
    {
     "name": "stdout",
     "output_type": "stream",
     "text": [
      "{'n_neighbors': 13}\n"
     ]
    },
    {
     "data": {
      "text/html": [
       "<div>\n",
       "<style scoped>\n",
       "    .dataframe tbody tr th:only-of-type {\n",
       "        vertical-align: middle;\n",
       "    }\n",
       "\n",
       "    .dataframe tbody tr th {\n",
       "        vertical-align: top;\n",
       "    }\n",
       "\n",
       "    .dataframe thead th {\n",
       "        text-align: right;\n",
       "    }\n",
       "</style>\n",
       "<table border=\"1\" class=\"dataframe\">\n",
       "  <thead>\n",
       "    <tr style=\"text-align: right;\">\n",
       "      <th></th>\n",
       "      <th>MODELNAME</th>\n",
       "      <th>ACCURACY</th>\n",
       "      <th>PRECISION</th>\n",
       "      <th>RECALL</th>\n",
       "      <th>AUC</th>\n",
       "    </tr>\n",
       "  </thead>\n",
       "  <tbody>\n",
       "    <tr>\n",
       "      <th>0</th>\n",
       "      <td>LR-train</td>\n",
       "      <td>0.760163</td>\n",
       "      <td>0.748494</td>\n",
       "      <td>0.980276</td>\n",
       "      <td>0.628666</td>\n",
       "    </tr>\n",
       "    <tr>\n",
       "      <th>1</th>\n",
       "      <td>LR-test</td>\n",
       "      <td>0.784553</td>\n",
       "      <td>0.763636</td>\n",
       "      <td>0.994083</td>\n",
       "      <td>0.659379</td>\n",
       "    </tr>\n",
       "    <tr>\n",
       "      <th>2</th>\n",
       "      <td>DecisionTree-train</td>\n",
       "      <td>0.830623</td>\n",
       "      <td>0.835088</td>\n",
       "      <td>0.938856</td>\n",
       "      <td>0.765965</td>\n",
       "    </tr>\n",
       "    <tr>\n",
       "      <th>3</th>\n",
       "      <td>DecisionTree-test</td>\n",
       "      <td>0.699187</td>\n",
       "      <td>0.762431</td>\n",
       "      <td>0.816568</td>\n",
       "      <td>0.629063</td>\n",
       "    </tr>\n",
       "    <tr>\n",
       "      <th>4</th>\n",
       "      <td>KNN(13)-train</td>\n",
       "      <td>0.720867</td>\n",
       "      <td>0.722304</td>\n",
       "      <td>0.964497</td>\n",
       "      <td>0.575322</td>\n",
       "    </tr>\n",
       "    <tr>\n",
       "      <th>5</th>\n",
       "      <td>KNN(13)-test</td>\n",
       "      <td>0.686992</td>\n",
       "      <td>0.707207</td>\n",
       "      <td>0.928994</td>\n",
       "      <td>0.542419</td>\n",
       "    </tr>\n",
       "    <tr>\n",
       "      <th>6</th>\n",
       "      <td>NB-train</td>\n",
       "      <td>0.738482</td>\n",
       "      <td>0.735030</td>\n",
       "      <td>0.968442</td>\n",
       "      <td>0.601104</td>\n",
       "    </tr>\n",
       "    <tr>\n",
       "      <th>7</th>\n",
       "      <td>NB-test</td>\n",
       "      <td>0.756098</td>\n",
       "      <td>0.753488</td>\n",
       "      <td>0.958580</td>\n",
       "      <td>0.635134</td>\n",
       "    </tr>\n",
       "  </tbody>\n",
       "</table>\n",
       "</div>"
      ],
      "text/plain": [
       "            MODELNAME  ACCURACY  PRECISION    RECALL       AUC\n",
       "0            LR-train  0.760163   0.748494  0.980276  0.628666\n",
       "1             LR-test  0.784553   0.763636  0.994083  0.659379\n",
       "2  DecisionTree-train  0.830623   0.835088  0.938856  0.765965\n",
       "3   DecisionTree-test  0.699187   0.762431  0.816568  0.629063\n",
       "4       KNN(13)-train  0.720867   0.722304  0.964497  0.575322\n",
       "5        KNN(13)-test  0.686992   0.707207  0.928994  0.542419\n",
       "6            NB-train  0.738482   0.735030  0.968442  0.601104\n",
       "7             NB-test  0.756098   0.753488  0.958580  0.635134"
      ]
     },
     "execution_count": 76,
     "metadata": {},
     "output_type": "execute_result"
    }
   ],
   "source": [
    "modelstats1(df.drop([\"date\",\"obsat\",\"skills\"],axis=1),df.obsat)"
   ]
  },
  {
   "cell_type": "markdown",
   "metadata": {},
   "source": [
    "### Running RandomForestClassifier on 8 features of X"
   ]
  },
  {
   "cell_type": "code",
   "execution_count": 89,
   "metadata": {},
   "outputs": [
    {
     "name": "stdout",
     "output_type": "stream",
     "text": [
      "Index(['client', 'gender', 'natloc', 'resume', 'expat', 'day', 'dayofyear',\n",
      "       'dayofweek'],\n",
      "      dtype='object')\n",
      "8\n",
      "Train Set\n",
      "precison 80.87248322147651\n",
      "recall 95.06903353057199\n",
      "accuracy 81.16531165311653\n",
      "log loss 0.38487106734615356\n",
      "Test Set\n",
      "precision 77.88944723618091\n",
      "recall 91.71597633136095\n",
      "acuuracy 76.42276422764228\n",
      "log loss 1.8504838003446156\n"
     ]
    },
    {
     "data": {
      "image/png": "[encoded data removed]",
      "text/plain": [
       "<Figure size 432x288 with 1 Axes>"
      ]
     },
     "metadata": {
      "needs_background": "light"
     },
     "output_type": "display_data"
    }
   ],
   "source": [
    "run_rf(df.drop([\"date\",\"obsat\",\"skills\"],axis=1),df.obsat,8)"
   ]
  },
  {
   "cell_type": "markdown",
   "metadata": {},
   "source": [
    "### Running RandomForestClassifier on 9 features of X"
   ]
  },
  {
   "cell_type": "code",
   "execution_count": 88,
   "metadata": {},
   "outputs": [
    {
     "name": "stdout",
     "output_type": "stream",
     "text": [
      "Index(['client', 'gender', 'natloc', 'resume', 'expat', 'marit', 'day',\n",
      "       'dayofyear', 'dayofweek'],\n",
      "      dtype='object')\n",
      "9\n",
      "Train Set\n",
      "precison 81.48148148148148\n",
      "recall 95.46351084812623\n",
      "accuracy 81.97831978319783\n",
      "log loss 0.36361838764342136\n",
      "Test Set\n",
      "precision 77.27272727272727\n",
      "recall 90.53254437869822\n",
      "acuuracy 75.20325203252033\n",
      "log loss 1.6008945897670446\n"
     ]
    },
    {
     "data": {
      "image/png": "[encoded data removed]",
      "text/plain": [
       "<Figure size 432x288 with 1 Axes>"
      ]
     },
     "metadata": {
      "needs_background": "light"
     },
     "output_type": "display_data"
    }
   ],
   "source": [
    "run_rf(df.drop([\"date\",\"obsat\",\"skills\"],axis=1),df.obsat,9)"
   ]
  },
  {
   "cell_type": "code",
   "execution_count": 80,
   "metadata": {},
   "outputs": [
    {
     "ename": "NameError",
     "evalue": "name 'testprediction' is not defined",
     "output_type": "error",
     "traceback": [
      "\u001b[1;31m---------------------------------------------------------------------------\u001b[0m",
      "\u001b[1;31mNameError\u001b[0m                                 Traceback (most recent call last)",
      "\u001b[1;32m<ipython-input-80-116c63103d28>\u001b[0m in \u001b[0;36m<module>\u001b[1;34m\u001b[0m\n\u001b[0;32m      1\u001b[0m \u001b[1;32mfrom\u001b[0m \u001b[0msklearn\u001b[0m\u001b[1;33m.\u001b[0m\u001b[0mmetrics\u001b[0m \u001b[1;32mimport\u001b[0m \u001b[0mroc_curve\u001b[0m\u001b[1;33m,\u001b[0m \u001b[0mauc\u001b[0m\u001b[1;33m\u001b[0m\u001b[1;33m\u001b[0m\u001b[0m\n\u001b[1;32m----> 2\u001b[1;33m \u001b[0mfpr\u001b[0m\u001b[1;33m,\u001b[0m \u001b[0mtpr\u001b[0m\u001b[1;33m,\u001b[0m \u001b[0mthresholds\u001b[0m \u001b[1;33m=\u001b[0m \u001b[0mroc_curve\u001b[0m\u001b[1;33m(\u001b[0m\u001b[0mtestprediction\u001b[0m\u001b[1;33m,\u001b[0m \u001b[0mytest\u001b[0m\u001b[1;33m)\u001b[0m\u001b[1;33m\u001b[0m\u001b[1;33m\u001b[0m\u001b[0m\n\u001b[0m\u001b[0;32m      3\u001b[0m \u001b[0mroc_auc\u001b[0m \u001b[1;33m=\u001b[0m \u001b[0mauc\u001b[0m\u001b[1;33m(\u001b[0m\u001b[0mfpr\u001b[0m\u001b[1;33m,\u001b[0m \u001b[0mtpr\u001b[0m\u001b[1;33m)\u001b[0m\u001b[1;33m\u001b[0m\u001b[1;33m\u001b[0m\u001b[0m\n\u001b[0;32m      4\u001b[0m \u001b[1;33m\u001b[0m\u001b[0m\n\u001b[0;32m      5\u001b[0m \u001b[0mplt\u001b[0m\u001b[1;33m.\u001b[0m\u001b[0mfigure\u001b[0m\u001b[1;33m(\u001b[0m\u001b[1;33m)\u001b[0m\u001b[1;33m\u001b[0m\u001b[1;33m\u001b[0m\u001b[0m\n",
      "\u001b[1;31mNameError\u001b[0m: name 'testprediction' is not defined"
     ]
    }
   ],
   "source": [
    "from sklearn.metrics import roc_curve, auc\n",
    "fpr, tpr, thresholds = roc_curve(, ytest)\n",
    "roc_auc = auc(fpr, tpr)\n",
    "\n",
    "plt.figure()\n",
    "plt.plot(fpr, tpr, color='darkorange',  label='ROC curve (area = %0.2f)' % roc_auc)\n",
    "plt.plot([0, 1], [0, 1], color='navy',  linestyle='--')\n",
    "plt.xlim([0.0, 1.0])\n",
    "plt.ylim([0.0, 1.05])\n",
    "plt.xlabel('False Positive Rate')\n",
    "plt.ylabel('True Positive Rate')\n",
    "st='Receiver operating characteristic '+name\n",
    "plt.title(st)\n",
    "plt.legend(loc=\"lower right\")\n",
    "plt.show()\n"
   ]
  },
  {
   "cell_type": "code",
   "execution_count": null,
   "metadata": {},
   "outputs": [],
   "source": []
  }
 ],
 "metadata": {
  "kernelspec": {
   "display_name": "Python 3",
   "language": "python",
   "name": "python3"
  },
  "language_info": {
   "codemirror_mode": {
    "name": "ipython",
    "version": 3
   },
   "file_extension": ".py",
   "mimetype": "text/x-python",
   "name": "python",
   "nbconvert_exporter": "python",
   "pygments_lexer": "ipython3",
   "version": "3.7.1"
  }
 },
 "nbformat": 4,
 "nbformat_minor": 2
}
